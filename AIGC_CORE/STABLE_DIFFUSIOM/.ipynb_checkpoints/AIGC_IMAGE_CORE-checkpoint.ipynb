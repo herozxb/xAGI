{
 "cells": [
  {
   "cell_type": "code",
   "execution_count": 1,
   "id": "b7fefe4d",
   "metadata": {},
   "outputs": [],
   "source": [
    "import torch\n",
    "import torch.nn as nn\n",
    "import torch.nn.functional as F\n",
    "import numpy as np\n",
    "import functools\n",
    "\n",
    "from torch.optim import Adam\n",
    "from torch.utils.data import DataLoader\n",
    "import torchvision.transforms as transforms\n",
    "from torchvision.datasets import MNIST\n",
    "import tqdm\n",
    "from tqdm.notebook import trange, tqdm\n",
    "from torch.optim.lr_scheduler import MultiplicativeLR, LambdaLR\n",
    "\n",
    "import matplotlib.pyplot as plt\n",
    "\n",
    "from torchvision.utils import make_grid\n",
    "\n",
    "from einops import rearrange\n",
    "import math"
   ]
  },
  {
   "cell_type": "code",
   "execution_count": 2,
   "id": "a498563f",
   "metadata": {},
   "outputs": [],
   "source": [
    "# 1 cross attension\n",
    "class CrossAttention(nn.Module):\n",
    "  def __init__(self, embed_dim, hidden_dim, context_dim=None, num_heads=1,):\n",
    "\n",
    "    # Note: For simplicity reason, we just implemented 1-head attention. \n",
    "    # Feel free to implement multi-head attention! with fancy tensor manipulations.\n",
    "    \n",
    "    super(CrossAttention, self).__init__()\n",
    "    self.hidden_dim = hidden_dim\n",
    "    self.context_dim = context_dim\n",
    "    self.embed_dim = embed_dim\n",
    "    self.query = nn.Linear(hidden_dim, embed_dim, bias=False)\n",
    "    if context_dim is None:\n",
    "      self.self_attn = True \n",
    "      self.key = nn.Linear(hidden_dim, embed_dim, bias=False)     ###########\n",
    "      self.value = nn.Linear(hidden_dim, hidden_dim, bias=False)  ############\n",
    "    else:\n",
    "      self.self_attn = False \n",
    "      self.key = nn.Linear(context_dim, embed_dim, bias=False)   #############\n",
    "      self.value = nn.Linear(context_dim, hidden_dim, bias=False) ############\n",
    "    \n",
    "    \n",
    "  def forward(self, tokens, context=None):\n",
    "    # tokens: with shape [batch, sequence_len, hidden_dim]\n",
    "    # context: with shape [batch, contex_seq_len, context_dim]\n",
    "    if self.self_attn:\n",
    "        Q = self.query(tokens)\n",
    "        K = self.key(tokens)  \n",
    "        V = self.value(tokens) \n",
    "    else:\n",
    "        # implement Q, K, V for the Cross attention \n",
    "        Q = self.query(tokens)\n",
    "        K = self.key(context)\n",
    "        V = self.value(context)\n",
    "    #print(Q.shape, K.shape, V.shape)\n",
    "    ####### YOUR CODE HERE (2 lines)\n",
    "    scoremats = torch.einsum(\"bth,bsh->bts\", Q, K)         # inner product of Q and K, a tensor \n",
    "    attnmats = F.softmax(scoremats/np.sqrt(self.embed_dim), dim=-1)          # softmax of scoremats\n",
    "    #print(scoremats.shape, attnmats.shape, )\n",
    "    ctx_vecs = torch.einsum(\"bts,bsh->bth\", attnmats, V)  # weighted average value vectors by attnmats\n",
    "    return ctx_vecs\n",
    "\n",
    "\n",
    "class TransformerBlock(nn.Module):\n",
    "  #The transformer block that combines self-attn, cross-attn and feed forward neural net\n",
    "  def __init__(self, hidden_dim, context_dim):\n",
    "    super(TransformerBlock, self).__init__()\n",
    "    self.attn_self = CrossAttention(hidden_dim, hidden_dim, )\n",
    "    self.attn_cross = CrossAttention(hidden_dim, hidden_dim, context_dim)\n",
    "\n",
    "    self.norm1 = nn.LayerNorm(hidden_dim)\n",
    "    self.norm2 = nn.LayerNorm(hidden_dim)\n",
    "    self.norm3 = nn.LayerNorm(hidden_dim)\n",
    "    # implement a 2 layer MLP with K*hidden_dim hidden units, and nn.GeLU nonlinearity #######\n",
    "    self.ffn  = nn.Sequential(nn.Linear(hidden_dim, 3*hidden_dim),\n",
    "                nn.GELU(), nn.Linear(3*hidden_dim, hidden_dim) )\n",
    "    \n",
    "    \n",
    "  def forward(self, x, context=None):\n",
    "    # Notice the + x as residue connections\n",
    "    x = self.attn_self(self.norm1(x)) + x\n",
    "    # Notice the + x as residue connections\n",
    "    x = self.attn_cross(self.norm2(x), context=context) + x\n",
    "    # Notice the + x as residue connections\n",
    "    x = self.ffn(self.norm3(x)) + x\n",
    "    return x \n",
    "\n",
    "class SpatialTransformer(nn.Module):\n",
    "  def __init__(self, hidden_dim, context_dim):\n",
    "    super(SpatialTransformer, self).__init__()\n",
    "    self.transformer = TransformerBlock(hidden_dim, context_dim)\n",
    "\n",
    "  def forward(self, x, context=None):\n",
    "    b, c, h, w = x.shape\n",
    "    x_in = x\n",
    "    # Combine the spatial dimensions and move the channel dimen to the end\n",
    "    x = rearrange(x, \"b c h w->b (h w) c\")\n",
    "    # Apply the sequence transformer\n",
    "    x = self.transformer(x, context)\n",
    "    # Reverse the process\n",
    "    x = rearrange(x, 'b (h w) c -> b c h w', h=h, w=w)\n",
    "    # Residue \n",
    "    return x + x_in"
   ]
  },
  {
   "cell_type": "code",
   "execution_count": 26,
   "id": "2615aefb",
   "metadata": {},
   "outputs": [],
   "source": [
    "# 2 U net\n",
    "\n",
    "class UNet_Tranformer(nn.Module):\n",
    "  # A time-dependent score-based model built upon U-Net architecture.\n",
    "\n",
    "  #channels=[32, 64, 128, 256]\n",
    "  def __init__(self, marginal_prob_std, channels=[32, 64, 128, 256], embed_dim=256, \n",
    "               text_dim=256, nClass=10):\n",
    "    #Initialize a time-dependent score-based network.\n",
    "\n",
    "    #Args:\n",
    "    #  marginal_prob_std: A function that takes time t and gives the standard\n",
    "    #    deviation of the perturbation kernel p_{0t}(x(t) | x(0)).\n",
    "    #  channels: The number of channels for feature maps of each resolution.\n",
    "    #  embed_dim: The dimensionality of Gaussian random feature embeddings of time.\n",
    "    #  text_dim:  the embedding dimension of text / digits. \n",
    "    #  nClass:    number of classes you want to model.\n",
    "    \n",
    "    super().__init__()\n",
    "    # Gaussian random feature embedding layer for time\n",
    "    self.time_embed = nn.Sequential(\n",
    "        GaussianFourierProjection(embed_dim=embed_dim),\n",
    "        nn.Linear(embed_dim, embed_dim)\n",
    "        )\n",
    "    # Encoding layers where the resolution decreases\n",
    "    self.conv1 = nn.Conv2d(1, channels[0], 3, stride=1, bias=False)\n",
    "    self.dense1 = Dense(embed_dim, channels[0])\n",
    "    self.gnorm1 = nn.GroupNorm(4, num_channels=channels[0])\n",
    "    self.attn1 = SpatialTransformer(channels[0], text_dim) \n",
    "    \n",
    "    self.conv2 = nn.Conv2d(channels[0], channels[1], 3, stride=2, bias=False)\n",
    "    self.dense2 = Dense(embed_dim, channels[1])\n",
    "    self.gnorm2 = nn.GroupNorm(32, num_channels=channels[1])\n",
    "    self.attn2 = SpatialTransformer(channels[1], text_dim) \n",
    "    \n",
    "    self.conv3 = nn.Conv2d(channels[1], channels[2], 3, stride=2, bias=False)\n",
    "    self.dense3 = Dense(embed_dim, channels[2])\n",
    "    self.gnorm3 = nn.GroupNorm(32, num_channels=channels[2])\n",
    "    self.attn3 = SpatialTransformer(channels[2], text_dim) \n",
    "    \n",
    "    self.conv4 = nn.Conv2d(channels[2], channels[3], 3, stride=2, bias=False)\n",
    "    self.dense4 = Dense(embed_dim, channels[3])\n",
    "    self.gnorm4 = nn.GroupNorm(32, num_channels=channels[3])    \n",
    "    # YOUR CODE: interleave some attention layers with conv layers\n",
    "    self.attn4 = SpatialTransformer(channels[3], text_dim)                        ######################################\n",
    "\n",
    "    # Decoding layers where the resolution increases\n",
    "    self.tconv4 = nn.ConvTranspose2d(channels[3], channels[2], 3, stride=2, bias=False)\n",
    "    self.dense5 = Dense(embed_dim, channels[2])\n",
    "    self.tgnorm4 = nn.GroupNorm(32, num_channels=channels[2])   \n",
    "\n",
    "    self.tconv3 = nn.ConvTranspose2d(channels[2], channels[1], 3, stride=2, bias=False, output_padding=1)     #  + channels[2]\n",
    "    self.dense6 = Dense(embed_dim, channels[1])\n",
    "    self.tgnorm3 = nn.GroupNorm(32, num_channels=channels[1])\n",
    "    \n",
    "    self.tconv2 = nn.ConvTranspose2d(channels[1], channels[0], 3, stride=2, bias=False, output_padding=1)     #  + channels[1]\n",
    "    self.dense7 = Dense(embed_dim, channels[0])\n",
    "    self.tgnorm2 = nn.GroupNorm(32, num_channels=channels[0])\n",
    "    self.tconv1 = nn.ConvTranspose2d(channels[0], 1, 3, stride=1) #  + channels[0]\n",
    "    \n",
    "    # The swish activation function\n",
    "    self.act = nn.SiLU() # lambda x: x * torch.sigmoid(x)\n",
    "    self.marginal_prob_std = marginal_prob_std\n",
    "    self.cond_embed = nn.Embedding(nClass, text_dim)\n",
    "  \n",
    "  def forward(self, x, t, y=None): \n",
    "    # Obtain the Gaussian random feature embedding for t   \n",
    "    embed = self.act(self.time_embed(t))    \n",
    "    y_embed = self.cond_embed(y).unsqueeze(1)\n",
    "    \n",
    "    #print(\"==================debug====================\")\n",
    "    #print(x.shape)        #torch.Size([1024, 1, 28, 28])\n",
    "    #print(embed.shape)    #torch.Size([1024, 256])\n",
    "    #print(y_embed.shape)  #torch.Size([1024, 1, 256])\n",
    "    # Encoding path\n",
    "    h1 = self.conv1(x) + self.dense1(embed) \n",
    "    #print(h1.shape)       #torch.Size([1024, 32, 26, 26])\n",
    "    # output size = ( input size - kernel size + 2 * padding ) / stride + 1\n",
    "    # output size = ( 28         - 3           + 2 * 0       ) / 1 + 1 = 26\n",
    "    ## Incorporate information from t\n",
    "    ## Group normalization\n",
    "    h1 = self.act(self.gnorm1(h1))\n",
    "    #h1 = self.attn1(h1, y_embed) # Use your attention layers\n",
    "    \n",
    "    h2 = self.conv2(h1) + self.dense2(embed)\n",
    "    h2 = self.act(self.gnorm2(h2))\n",
    "    h2 = self.attn2(h2, y_embed) # Use your attention layers\n",
    "    #print(h2.shape)       #torch.Size([1024, 64, 12, 12])\n",
    "    # output size = ( input size - kernel size + 2 * padding ) / stride + 1\n",
    "    # output size = ( 26         - 3           + 2 * 0       ) / 2 + 1 = 12\n",
    "    \n",
    "    \n",
    "    h3 = self.conv3(h2) + self.dense3(embed)\n",
    "    h3 = self.act(self.gnorm3(h3))\n",
    "    h3 = self.attn3(h3, y_embed) # Use your attention layers\n",
    "    #print(h3.shape)       #torch.Size([1024, 128, 5, 5])\n",
    "    # output size = ( input size - kernel size + 2 * padding ) / stride + 1\n",
    "    # output size = ( 12         - 3           + 2 * 0       ) / 2 + 1 = 5\n",
    "    \n",
    "    \n",
    "    h4 = self.conv4(h3) + self.dense4(embed)\n",
    "    h4 = self.act(self.gnorm4(h4))\n",
    "    # Your code: Use your additional attention layers! \n",
    "    h4 = self.attn4(h4, y_embed)       ##################### ATTENTION LAYER COULD GO HERE IF ATTN4 IS DEFINED\n",
    "    #print(h4.shape)       #torch.Size([1024, 256, 2, 2])\n",
    "    # output size = ( input size - kernel size + 2 * padding ) / stride + 1\n",
    "    # output size = ( 5         - 3           + 2 * 0       ) / 2 + 1 = 2\n",
    "    \n",
    "    \n",
    "    \n",
    "    # Decoding path\n",
    "    h = self.tconv4(h4) + self.dense5(embed)\n",
    "    #print(h.shape)        #torch.Size([1024, 128, 5, 5])\n",
    "    # output size = ( input size - 1 ) * stride - 2 * padding + kernel size + output_padding\n",
    "    # output size = ( 2          - 1 ) * 2      - 2 * 0       + 3              = 5\n",
    "    ## Skip connection from the encoding path\n",
    "    h = self.act(self.tgnorm4(h))\n",
    "    \n",
    "    \n",
    "    h = self.tconv3(h + h3) + self.dense6(embed)\n",
    "    #print(h.shape)        #torch.Size([1024, 64, 12, 12])\n",
    "    # output size = ( input size - 1 ) * stride - 2 * padding + kernel size + output_padding\n",
    "    # output size = ( 5          - 1 ) * 2      - 2 * 0       + 3           + 1             = 12    \n",
    "    \n",
    "    h = self.act(self.tgnorm3(h))\n",
    "    h = self.tconv2(h + h2) + self.dense7(embed)\n",
    "    #print(h.shape)        #torch.Size([1024, 32, 26, 26])\n",
    "    # output size = ( input size - 1 ) * stride - 2 * padding + kernel size + output_padding\n",
    "    # output size = ( 12          - 1 ) * 2      - 2 * 0       + 3           + 1             = 26 \n",
    "    h = self.act(self.tgnorm2(h))\n",
    "    h = self.tconv1(h + h1)\n",
    "    #print(h.shape)        #torch.Size([1024, 1, 28, 28])\n",
    "    # output size = ( input size - 1 ) * stride - 2 * padding + kernel size + output_padding\n",
    "    # output size = ( 26          - 1 ) * 1      - 2 * 0       + 3           + 0             = 28 \n",
    "    \n",
    "    # Normalize output\n",
    "    h = h / self.marginal_prob_std(t)[:, None, None, None]\n",
    "    \n",
    "    # the h is the noise image\n",
    "    return h\n"
   ]
  },
  {
   "cell_type": "code",
   "execution_count": 27,
   "id": "6a71a183",
   "metadata": {},
   "outputs": [],
   "source": [
    "# 3 show the image result\n",
    "def show_images(images, title=\"\"):\n",
    "    # Shows the provided images as sub-pictures in a square\n",
    "\n",
    "    # Converting images to CPU numpy arrays\n",
    "    if type(images) is torch.Tensor:\n",
    "        images = images.detach().cpu().numpy()\n",
    "\n",
    "    # Defining number of rows and columns\n",
    "    fig = plt.figure(figsize=(8, 8))\n",
    "    rows = int(len(images) ** (1 / 2))\n",
    "    cols = round(len(images) / rows)\n",
    "\n",
    "    # Populating figure with sub-plots\n",
    "    idx = 0\n",
    "    for r in range(rows):\n",
    "        for c in range(cols):\n",
    "            fig.add_subplot(rows, cols, idx + 1)\n",
    "\n",
    "            if idx < len(images):\n",
    "                plt.imshow(images[idx][0], cmap=\"gray\")\n",
    "                idx += 1\n",
    "    fig.suptitle(title, fontsize=30)\n",
    "\n",
    "    # Showing the figure\n",
    "    plt.show()"
   ]
  },
  {
   "cell_type": "code",
   "execution_count": 28,
   "id": "18c45093",
   "metadata": {},
   "outputs": [],
   "source": [
    "# 4 other nn, position encoding\n",
    "\n",
    "#@title Get some modules to let time interact\n",
    "\n",
    "class GaussianFourierProjection(nn.Module):\n",
    "  # Gaussian random features for encoding time steps.  \n",
    "  def __init__(self, embed_dim, scale=30.):\n",
    "    super().__init__()\n",
    "    # Randomly sample weights (frequencies) during initialization. \n",
    "    # These weights (frequencies) are fixed during optimization and are not trainable.\n",
    "    self.W = nn.Parameter(torch.randn(embed_dim // 2) * scale, requires_grad=False)\n",
    "  def forward(self, x):\n",
    "    # Cosine(2 pi freq x), Sine(2 pi freq x)\n",
    "    x_proj = x[:, None] * self.W[None, :] * 2 * np.pi\n",
    "    return torch.cat([torch.sin(x_proj), torch.cos(x_proj)], dim=-1)\n",
    "\n",
    "\n",
    "class Dense(nn.Module):\n",
    "  # A fully connected layer that reshapes outputs to feature maps.\n",
    "  # Allow time repr to input additively from the side of a convolution layer.\n",
    "  \n",
    "  def __init__(self, input_dim, output_dim):\n",
    "    super().__init__()\n",
    "    self.dense = nn.Linear(input_dim, output_dim)\n",
    "  def forward(self, x):\n",
    "    return self.dense(x)[..., None, None] \n",
    "    # this broadcast the 2d tensor to 4d, add the same value across space. \n",
    "\n",
    "\n",
    "\n",
    "#@title Diffusion constant and noise strength\n",
    "device = 'cuda' #@param ['cuda', 'cpu'] {'type':'string'}\n",
    "\n",
    "def marginal_prob_std(t, sigma):\n",
    "  # Compute the mean and standard deviation of $p_{0t}(x(t) | x(0))$.\n",
    "\n",
    "  # Args:    \n",
    "  #  t: A vector of time steps.\n",
    "  #  sigma: The $\\sigma$ in our SDE.  \n",
    "  \n",
    "  # Returns:\n",
    "  #  The standard deviation.\n",
    "      \n",
    "  t = torch.tensor(t, device=device)\n",
    "  return torch.sqrt((sigma**(2 * t) - 1.) / 2. / np.log(sigma))\n",
    "\n",
    "def diffusion_coeff(t, sigma):\n",
    "  # Compute the diffusion coefficient of our SDE.\n",
    "\n",
    "  # Args:\n",
    "  #  t: A vector of time steps.\n",
    "  #  sigma: The $\\sigma$ in our SDE.\n",
    "  \n",
    "  # Returns:\n",
    "  #  The vector of diffusion coefficients.\n",
    "  \n",
    "  return torch.tensor(sigma**t, device=device)\n",
    "  \n",
    "sigma =  25.0#@param {'type':'number'}\n",
    "marginal_prob_std_fn = functools.partial(marginal_prob_std, sigma=sigma)\n",
    "diffusion_coeff_fn = functools.partial(diffusion_coeff, sigma=sigma)"
   ]
  },
  {
   "cell_type": "code",
   "execution_count": 29,
   "id": "47e7aeab",
   "metadata": {},
   "outputs": [
    {
     "name": "stdout",
     "output_type": "stream",
     "text": [
      "Model size: 2.15 MB\n"
     ]
    },
    {
     "data": {
      "text/plain": [
       "<All keys matched successfully>"
      ]
     },
     "execution_count": 29,
     "metadata": {},
     "output_type": "execute_result"
    }
   ],
   "source": [
    "# 5 model information and action\n",
    "\n",
    "# Create an instance of YourModelClass\n",
    "score_model = torch.nn.DataParallel(UNet_Tranformer(marginal_prob_std=marginal_prob_std_fn))\n",
    "score_model = score_model.to(device)\n",
    "\n",
    "# Function to calculate the size of the model\n",
    "def model_size(model):\n",
    "    total_params = sum(p.numel() for p in model.parameters())\n",
    "    return total_params / 1e6  # Return the size in million parameters\n",
    "\n",
    "# Get the size of the model\n",
    "size_in_mb = model_size(score_model)\n",
    "print(f\"Model size: {size_in_mb:.2f} MB\")\n",
    "\n",
    "# Load the saved state dictionary\n",
    "state_dict = torch.load('ckpt_transformer.pth')\n",
    "\n",
    "# Load the state dictionary into the model\n",
    "score_model.load_state_dict(state_dict)\n"
   ]
  },
  {
   "cell_type": "code",
   "execution_count": 30,
   "id": "802749fa",
   "metadata": {},
   "outputs": [],
   "source": [
    "def loss_fn_cond(model, x, y, marginal_prob_std, eps=1e-5):\n",
    "  # The loss function for training score-based generative models.\n",
    "\n",
    "  # Args:\n",
    "  #  model: A PyTorch model instance that represents a \n",
    "  #    time-dependent score-based model.\n",
    "  #  x: A mini-batch of training data.    \n",
    "  #  marginal_prob_std: A function that gives the standard deviation of \n",
    "  #    the perturbation kernel.\n",
    "  #  eps: A tolerance value for numerical stability.\n",
    "  \n",
    "  random_t = torch.rand(x.shape[0], device=x.device) * (1. - eps) + eps  \n",
    "  z = torch.randn_like(x)\n",
    "  std = marginal_prob_std(random_t)\n",
    "  perturbed_x = x + z * std[:, None, None, None]\n",
    "  score = model(perturbed_x, random_t, y=y)\n",
    "  loss = torch.mean(torch.sum((score * std[:, None, None, None] + z)**2, dim=(1,2,3)))\n",
    "  return loss"
   ]
  },
  {
   "cell_type": "code",
   "execution_count": 31,
   "id": "481993ba",
   "metadata": {
    "scrolled": true
   },
   "outputs": [
    {
     "data": {
      "application/vnd.jupyter.widget-view+json": {
       "model_id": "1dd6ff6cd14041cf89d5dc1175c33384",
       "version_major": 2,
       "version_minor": 0
      },
      "text/plain": [
       "  0%|          | 0/100 [00:00<?, ?it/s]"
      ]
     },
     "metadata": {},
     "output_type": "display_data"
    },
    {
     "data": {
      "application/vnd.jupyter.widget-view+json": {
       "model_id": "c621ebd050d441629f79ef2b137db6f8",
       "version_major": 2,
       "version_minor": 0
      },
      "text/plain": [
       "  0%|          | 0/59 [00:00<?, ?it/s]"
      ]
     },
     "metadata": {},
     "output_type": "display_data"
    },
    {
     "name": "stderr",
     "output_type": "stream",
     "text": [
      "/tmp/ipykernel_490364/1799332901.py:44: UserWarning: To copy construct from a tensor, it is recommended to use sourceTensor.clone().detach() or sourceTensor.clone().detach().requires_grad_(True), rather than torch.tensor(sourceTensor).\n",
      "  t = torch.tensor(t, device=device)\n"
     ]
    },
    {
     "name": "stdout",
     "output_type": "stream",
     "text": [
      "0 Average Loss: 59.462793 lr 9.8e-04\n"
     ]
    },
    {
     "data": {
      "application/vnd.jupyter.widget-view+json": {
       "model_id": "cba965ed521d400bbec862b7ce11e300",
       "version_major": 2,
       "version_minor": 0
      },
      "text/plain": [
       "  0%|          | 0/59 [00:00<?, ?it/s]"
      ]
     },
     "metadata": {},
     "output_type": "display_data"
    },
    {
     "name": "stdout",
     "output_type": "stream",
     "text": [
      "1 Average Loss: 22.596328 lr 9.6e-04\n"
     ]
    },
    {
     "data": {
      "application/vnd.jupyter.widget-view+json": {
       "model_id": "a0ab967fe4704ecaa5eef7b5bd461376",
       "version_major": 2,
       "version_minor": 0
      },
      "text/plain": [
       "  0%|          | 0/59 [00:00<?, ?it/s]"
      ]
     },
     "metadata": {},
     "output_type": "display_data"
    },
    {
     "name": "stdout",
     "output_type": "stream",
     "text": [
      "2 Average Loss: 19.943652 lr 9.4e-04\n"
     ]
    },
    {
     "data": {
      "application/vnd.jupyter.widget-view+json": {
       "model_id": "0bc672a8b03040ef9ddb61749fcf683c",
       "version_major": 2,
       "version_minor": 0
      },
      "text/plain": [
       "  0%|          | 0/59 [00:00<?, ?it/s]"
      ]
     },
     "metadata": {},
     "output_type": "display_data"
    },
    {
     "name": "stdout",
     "output_type": "stream",
     "text": [
      "3 Average Loss: 18.874810 lr 9.2e-04\n"
     ]
    },
    {
     "data": {
      "application/vnd.jupyter.widget-view+json": {
       "model_id": "123860b4279540f899773dbea574f42f",
       "version_major": 2,
       "version_minor": 0
      },
      "text/plain": [
       "  0%|          | 0/59 [00:00<?, ?it/s]"
      ]
     },
     "metadata": {},
     "output_type": "display_data"
    },
    {
     "name": "stdout",
     "output_type": "stream",
     "text": [
      "4 Average Loss: 18.461450 lr 9.0e-04\n"
     ]
    },
    {
     "data": {
      "application/vnd.jupyter.widget-view+json": {
       "model_id": "76d16e6d0794409a9607c65d6b3fa214",
       "version_major": 2,
       "version_minor": 0
      },
      "text/plain": [
       "  0%|          | 0/59 [00:00<?, ?it/s]"
      ]
     },
     "metadata": {},
     "output_type": "display_data"
    },
    {
     "name": "stdout",
     "output_type": "stream",
     "text": [
      "5 Average Loss: 18.522418 lr 8.9e-04\n"
     ]
    },
    {
     "data": {
      "application/vnd.jupyter.widget-view+json": {
       "model_id": "309b59aa2d464193aff19b1aa79b5cea",
       "version_major": 2,
       "version_minor": 0
      },
      "text/plain": [
       "  0%|          | 0/59 [00:00<?, ?it/s]"
      ]
     },
     "metadata": {},
     "output_type": "display_data"
    },
    {
     "name": "stdout",
     "output_type": "stream",
     "text": [
      "6 Average Loss: 18.218516 lr 8.7e-04\n"
     ]
    },
    {
     "data": {
      "application/vnd.jupyter.widget-view+json": {
       "model_id": "f3aea6c8f467462b8c2215486e3ffb89",
       "version_major": 2,
       "version_minor": 0
      },
      "text/plain": [
       "  0%|          | 0/59 [00:00<?, ?it/s]"
      ]
     },
     "metadata": {},
     "output_type": "display_data"
    },
    {
     "name": "stdout",
     "output_type": "stream",
     "text": [
      "7 Average Loss: 18.050880 lr 8.5e-04\n"
     ]
    },
    {
     "data": {
      "application/vnd.jupyter.widget-view+json": {
       "model_id": "6a8fda4b7fdd42348d7daa890580cb6b",
       "version_major": 2,
       "version_minor": 0
      },
      "text/plain": [
       "  0%|          | 0/59 [00:00<?, ?it/s]"
      ]
     },
     "metadata": {},
     "output_type": "display_data"
    },
    {
     "name": "stdout",
     "output_type": "stream",
     "text": [
      "8 Average Loss: 19.023326 lr 8.3e-04\n"
     ]
    },
    {
     "data": {
      "application/vnd.jupyter.widget-view+json": {
       "model_id": "7c8b480e012545eebacd3f1bfe165d3b",
       "version_major": 2,
       "version_minor": 0
      },
      "text/plain": [
       "  0%|          | 0/59 [00:00<?, ?it/s]"
      ]
     },
     "metadata": {},
     "output_type": "display_data"
    },
    {
     "name": "stdout",
     "output_type": "stream",
     "text": [
      "9 Average Loss: 18.076752 lr 8.2e-04\n"
     ]
    },
    {
     "data": {
      "application/vnd.jupyter.widget-view+json": {
       "model_id": "db62623c00174db9b48e85f6679def54",
       "version_major": 2,
       "version_minor": 0
      },
      "text/plain": [
       "  0%|          | 0/59 [00:00<?, ?it/s]"
      ]
     },
     "metadata": {},
     "output_type": "display_data"
    },
    {
     "name": "stdout",
     "output_type": "stream",
     "text": [
      "10 Average Loss: 17.971799 lr 8.0e-04\n"
     ]
    },
    {
     "data": {
      "application/vnd.jupyter.widget-view+json": {
       "model_id": "306c6b5d613043bb9d633ec429b3d2bd",
       "version_major": 2,
       "version_minor": 0
      },
      "text/plain": [
       "  0%|          | 0/59 [00:00<?, ?it/s]"
      ]
     },
     "metadata": {},
     "output_type": "display_data"
    },
    {
     "name": "stdout",
     "output_type": "stream",
     "text": [
      "11 Average Loss: 17.841673 lr 7.8e-04\n"
     ]
    },
    {
     "data": {
      "application/vnd.jupyter.widget-view+json": {
       "model_id": "80cdc6f0957643d08b197f78490c6e93",
       "version_major": 2,
       "version_minor": 0
      },
      "text/plain": [
       "  0%|          | 0/59 [00:00<?, ?it/s]"
      ]
     },
     "metadata": {},
     "output_type": "display_data"
    },
    {
     "name": "stdout",
     "output_type": "stream",
     "text": [
      "12 Average Loss: 17.351518 lr 7.7e-04\n"
     ]
    },
    {
     "data": {
      "application/vnd.jupyter.widget-view+json": {
       "model_id": "607b3d11bd144aa7b7ff9da43c9258a0",
       "version_major": 2,
       "version_minor": 0
      },
      "text/plain": [
       "  0%|          | 0/59 [00:00<?, ?it/s]"
      ]
     },
     "metadata": {},
     "output_type": "display_data"
    },
    {
     "name": "stdout",
     "output_type": "stream",
     "text": [
      "13 Average Loss: 17.959933 lr 7.5e-04\n"
     ]
    },
    {
     "data": {
      "application/vnd.jupyter.widget-view+json": {
       "model_id": "968ee184fb3545a29b6f650bea5793ae",
       "version_major": 2,
       "version_minor": 0
      },
      "text/plain": [
       "  0%|          | 0/59 [00:00<?, ?it/s]"
      ]
     },
     "metadata": {},
     "output_type": "display_data"
    },
    {
     "name": "stdout",
     "output_type": "stream",
     "text": [
      "14 Average Loss: 17.679222 lr 7.4e-04\n"
     ]
    },
    {
     "data": {
      "application/vnd.jupyter.widget-view+json": {
       "model_id": "9ab91f0a9d474a4a8743d68ea02dbadd",
       "version_major": 2,
       "version_minor": 0
      },
      "text/plain": [
       "  0%|          | 0/59 [00:00<?, ?it/s]"
      ]
     },
     "metadata": {},
     "output_type": "display_data"
    },
    {
     "name": "stdout",
     "output_type": "stream",
     "text": [
      "15 Average Loss: 17.257268 lr 7.2e-04\n"
     ]
    },
    {
     "data": {
      "application/vnd.jupyter.widget-view+json": {
       "model_id": "370bcd16718845a0abb5946744120ae3",
       "version_major": 2,
       "version_minor": 0
      },
      "text/plain": [
       "  0%|          | 0/59 [00:00<?, ?it/s]"
      ]
     },
     "metadata": {},
     "output_type": "display_data"
    },
    {
     "name": "stdout",
     "output_type": "stream",
     "text": [
      "16 Average Loss: 17.054860 lr 7.1e-04\n"
     ]
    },
    {
     "data": {
      "application/vnd.jupyter.widget-view+json": {
       "model_id": "c222f6b9aa1547638e4a3d0052b53817",
       "version_major": 2,
       "version_minor": 0
      },
      "text/plain": [
       "  0%|          | 0/59 [00:00<?, ?it/s]"
      ]
     },
     "metadata": {},
     "output_type": "display_data"
    },
    {
     "name": "stdout",
     "output_type": "stream",
     "text": [
      "17 Average Loss: 17.475249 lr 7.0e-04\n"
     ]
    },
    {
     "data": {
      "application/vnd.jupyter.widget-view+json": {
       "model_id": "15bac10108cd47a48ad0a2a04984e4b0",
       "version_major": 2,
       "version_minor": 0
      },
      "text/plain": [
       "  0%|          | 0/59 [00:00<?, ?it/s]"
      ]
     },
     "metadata": {},
     "output_type": "display_data"
    },
    {
     "name": "stdout",
     "output_type": "stream",
     "text": [
      "18 Average Loss: 17.195926 lr 6.8e-04\n"
     ]
    },
    {
     "data": {
      "application/vnd.jupyter.widget-view+json": {
       "model_id": "61bce8a7e3004c0ab957130294d979e0",
       "version_major": 2,
       "version_minor": 0
      },
      "text/plain": [
       "  0%|          | 0/59 [00:00<?, ?it/s]"
      ]
     },
     "metadata": {},
     "output_type": "display_data"
    },
    {
     "name": "stdout",
     "output_type": "stream",
     "text": [
      "19 Average Loss: 17.293317 lr 6.7e-04\n"
     ]
    },
    {
     "data": {
      "application/vnd.jupyter.widget-view+json": {
       "model_id": "8189f32a50284e9c8271389fdcddf658",
       "version_major": 2,
       "version_minor": 0
      },
      "text/plain": [
       "  0%|          | 0/59 [00:00<?, ?it/s]"
      ]
     },
     "metadata": {},
     "output_type": "display_data"
    },
    {
     "name": "stdout",
     "output_type": "stream",
     "text": [
      "20 Average Loss: 17.161443 lr 6.5e-04\n"
     ]
    },
    {
     "data": {
      "application/vnd.jupyter.widget-view+json": {
       "model_id": "fb599f2dada442dc9decebb9a27fa7a6",
       "version_major": 2,
       "version_minor": 0
      },
      "text/plain": [
       "  0%|          | 0/59 [00:00<?, ?it/s]"
      ]
     },
     "metadata": {},
     "output_type": "display_data"
    },
    {
     "name": "stdout",
     "output_type": "stream",
     "text": [
      "21 Average Loss: 17.014819 lr 6.4e-04\n"
     ]
    },
    {
     "data": {
      "application/vnd.jupyter.widget-view+json": {
       "model_id": "e917da0d785f4ba09df3fe782f2ffcc7",
       "version_major": 2,
       "version_minor": 0
      },
      "text/plain": [
       "  0%|          | 0/59 [00:00<?, ?it/s]"
      ]
     },
     "metadata": {},
     "output_type": "display_data"
    },
    {
     "name": "stdout",
     "output_type": "stream",
     "text": [
      "22 Average Loss: 17.172263 lr 6.3e-04\n"
     ]
    },
    {
     "data": {
      "application/vnd.jupyter.widget-view+json": {
       "model_id": "ace7b9ef12c7402992e981e6fc86226e",
       "version_major": 2,
       "version_minor": 0
      },
      "text/plain": [
       "  0%|          | 0/59 [00:00<?, ?it/s]"
      ]
     },
     "metadata": {},
     "output_type": "display_data"
    },
    {
     "name": "stdout",
     "output_type": "stream",
     "text": [
      "23 Average Loss: 17.110042 lr 6.2e-04\n"
     ]
    },
    {
     "data": {
      "application/vnd.jupyter.widget-view+json": {
       "model_id": "d18a2ce241ef402eb2b7c273defa8f44",
       "version_major": 2,
       "version_minor": 0
      },
      "text/plain": [
       "  0%|          | 0/59 [00:00<?, ?it/s]"
      ]
     },
     "metadata": {},
     "output_type": "display_data"
    },
    {
     "name": "stdout",
     "output_type": "stream",
     "text": [
      "24 Average Loss: 17.156526 lr 6.0e-04\n"
     ]
    },
    {
     "data": {
      "application/vnd.jupyter.widget-view+json": {
       "model_id": "92cef318c341456998d8cce22bcc5e41",
       "version_major": 2,
       "version_minor": 0
      },
      "text/plain": [
       "  0%|          | 0/59 [00:00<?, ?it/s]"
      ]
     },
     "metadata": {},
     "output_type": "display_data"
    },
    {
     "name": "stdout",
     "output_type": "stream",
     "text": [
      "25 Average Loss: 16.998090 lr 5.9e-04\n"
     ]
    },
    {
     "data": {
      "application/vnd.jupyter.widget-view+json": {
       "model_id": "7a55b927dbc5480894fe16bf8a10204e",
       "version_major": 2,
       "version_minor": 0
      },
      "text/plain": [
       "  0%|          | 0/59 [00:00<?, ?it/s]"
      ]
     },
     "metadata": {},
     "output_type": "display_data"
    },
    {
     "name": "stdout",
     "output_type": "stream",
     "text": [
      "26 Average Loss: 16.976849 lr 5.8e-04\n"
     ]
    },
    {
     "data": {
      "application/vnd.jupyter.widget-view+json": {
       "model_id": "7e9aab7e4d5543d5a4c3976f45843dc3",
       "version_major": 2,
       "version_minor": 0
      },
      "text/plain": [
       "  0%|          | 0/59 [00:00<?, ?it/s]"
      ]
     },
     "metadata": {},
     "output_type": "display_data"
    },
    {
     "name": "stdout",
     "output_type": "stream",
     "text": [
      "27 Average Loss: 16.661058 lr 5.7e-04\n"
     ]
    },
    {
     "data": {
      "application/vnd.jupyter.widget-view+json": {
       "model_id": "90474b3f5fee4064a29372d1320acc6c",
       "version_major": 2,
       "version_minor": 0
      },
      "text/plain": [
       "  0%|          | 0/59 [00:00<?, ?it/s]"
      ]
     },
     "metadata": {},
     "output_type": "display_data"
    },
    {
     "name": "stdout",
     "output_type": "stream",
     "text": [
      "28 Average Loss: 16.891891 lr 5.6e-04\n"
     ]
    },
    {
     "data": {
      "application/vnd.jupyter.widget-view+json": {
       "model_id": "2252bae9380b48fa9b2ca25883b6cecc",
       "version_major": 2,
       "version_minor": 0
      },
      "text/plain": [
       "  0%|          | 0/59 [00:00<?, ?it/s]"
      ]
     },
     "metadata": {},
     "output_type": "display_data"
    },
    {
     "name": "stdout",
     "output_type": "stream",
     "text": [
      "29 Average Loss: 16.511144 lr 5.5e-04\n"
     ]
    },
    {
     "data": {
      "application/vnd.jupyter.widget-view+json": {
       "model_id": "e5cc26d0706f45049fa738a9f40547ba",
       "version_major": 2,
       "version_minor": 0
      },
      "text/plain": [
       "  0%|          | 0/59 [00:00<?, ?it/s]"
      ]
     },
     "metadata": {},
     "output_type": "display_data"
    },
    {
     "name": "stdout",
     "output_type": "stream",
     "text": [
      "30 Average Loss: 16.976787 lr 5.3e-04\n"
     ]
    },
    {
     "data": {
      "application/vnd.jupyter.widget-view+json": {
       "model_id": "fcfd2f87ee834440ace0955e0a512e9b",
       "version_major": 2,
       "version_minor": 0
      },
      "text/plain": [
       "  0%|          | 0/59 [00:00<?, ?it/s]"
      ]
     },
     "metadata": {},
     "output_type": "display_data"
    },
    {
     "name": "stdout",
     "output_type": "stream",
     "text": [
      "31 Average Loss: 16.681080 lr 5.2e-04\n"
     ]
    },
    {
     "data": {
      "application/vnd.jupyter.widget-view+json": {
       "model_id": "725da88c7d774506afe5dfa2b2c854b7",
       "version_major": 2,
       "version_minor": 0
      },
      "text/plain": [
       "  0%|          | 0/59 [00:00<?, ?it/s]"
      ]
     },
     "metadata": {},
     "output_type": "display_data"
    },
    {
     "name": "stdout",
     "output_type": "stream",
     "text": [
      "32 Average Loss: 16.612700 lr 5.1e-04\n"
     ]
    },
    {
     "data": {
      "application/vnd.jupyter.widget-view+json": {
       "model_id": "269a00646be243f1b07d35d0f44158d0",
       "version_major": 2,
       "version_minor": 0
      },
      "text/plain": [
       "  0%|          | 0/59 [00:00<?, ?it/s]"
      ]
     },
     "metadata": {},
     "output_type": "display_data"
    },
    {
     "name": "stdout",
     "output_type": "stream",
     "text": [
      "33 Average Loss: 16.682454 lr 5.0e-04\n"
     ]
    },
    {
     "data": {
      "application/vnd.jupyter.widget-view+json": {
       "model_id": "94bf27315f7545b08973d5ce743432e0",
       "version_major": 2,
       "version_minor": 0
      },
      "text/plain": [
       "  0%|          | 0/59 [00:00<?, ?it/s]"
      ]
     },
     "metadata": {},
     "output_type": "display_data"
    },
    {
     "name": "stdout",
     "output_type": "stream",
     "text": [
      "34 Average Loss: 16.565501 lr 4.9e-04\n"
     ]
    },
    {
     "data": {
      "application/vnd.jupyter.widget-view+json": {
       "model_id": "a2b68b71d4f44b9280ea5c5663ca3216",
       "version_major": 2,
       "version_minor": 0
      },
      "text/plain": [
       "  0%|          | 0/59 [00:00<?, ?it/s]"
      ]
     },
     "metadata": {},
     "output_type": "display_data"
    },
    {
     "name": "stdout",
     "output_type": "stream",
     "text": [
      "35 Average Loss: 16.835328 lr 4.8e-04\n"
     ]
    },
    {
     "data": {
      "application/vnd.jupyter.widget-view+json": {
       "model_id": "1f929f4640264762a5fec36413c6a427",
       "version_major": 2,
       "version_minor": 0
      },
      "text/plain": [
       "  0%|          | 0/59 [00:00<?, ?it/s]"
      ]
     },
     "metadata": {},
     "output_type": "display_data"
    },
    {
     "name": "stdout",
     "output_type": "stream",
     "text": [
      "36 Average Loss: 16.683491 lr 4.7e-04\n"
     ]
    },
    {
     "data": {
      "application/vnd.jupyter.widget-view+json": {
       "model_id": "057b80b064eb44c09abbac13c6182c08",
       "version_major": 2,
       "version_minor": 0
      },
      "text/plain": [
       "  0%|          | 0/59 [00:00<?, ?it/s]"
      ]
     },
     "metadata": {},
     "output_type": "display_data"
    },
    {
     "name": "stdout",
     "output_type": "stream",
     "text": [
      "37 Average Loss: 16.342753 lr 4.6e-04\n"
     ]
    },
    {
     "data": {
      "application/vnd.jupyter.widget-view+json": {
       "model_id": "7e4d59a2a531445ebade2cad2fa15b66",
       "version_major": 2,
       "version_minor": 0
      },
      "text/plain": [
       "  0%|          | 0/59 [00:00<?, ?it/s]"
      ]
     },
     "metadata": {},
     "output_type": "display_data"
    },
    {
     "name": "stdout",
     "output_type": "stream",
     "text": [
      "38 Average Loss: 16.797886 lr 4.5e-04\n"
     ]
    },
    {
     "data": {
      "application/vnd.jupyter.widget-view+json": {
       "model_id": "ed7af2f6a3df428eb3c5fcda8bce380b",
       "version_major": 2,
       "version_minor": 0
      },
      "text/plain": [
       "  0%|          | 0/59 [00:00<?, ?it/s]"
      ]
     },
     "metadata": {},
     "output_type": "display_data"
    },
    {
     "name": "stdout",
     "output_type": "stream",
     "text": [
      "39 Average Loss: 16.399765 lr 4.5e-04\n"
     ]
    },
    {
     "data": {
      "application/vnd.jupyter.widget-view+json": {
       "model_id": "0668818a6fc74a4b843de88f10381fd2",
       "version_major": 2,
       "version_minor": 0
      },
      "text/plain": [
       "  0%|          | 0/59 [00:00<?, ?it/s]"
      ]
     },
     "metadata": {},
     "output_type": "display_data"
    },
    {
     "name": "stdout",
     "output_type": "stream",
     "text": [
      "40 Average Loss: 16.431224 lr 4.4e-04\n"
     ]
    },
    {
     "data": {
      "application/vnd.jupyter.widget-view+json": {
       "model_id": "edd5cda5a66648908436fac32c8b97a9",
       "version_major": 2,
       "version_minor": 0
      },
      "text/plain": [
       "  0%|          | 0/59 [00:00<?, ?it/s]"
      ]
     },
     "metadata": {},
     "output_type": "display_data"
    },
    {
     "name": "stdout",
     "output_type": "stream",
     "text": [
      "41 Average Loss: 16.474976 lr 4.3e-04\n"
     ]
    },
    {
     "data": {
      "application/vnd.jupyter.widget-view+json": {
       "model_id": "6592bcc038f34cd3b781a83ad55ae295",
       "version_major": 2,
       "version_minor": 0
      },
      "text/plain": [
       "  0%|          | 0/59 [00:00<?, ?it/s]"
      ]
     },
     "metadata": {},
     "output_type": "display_data"
    },
    {
     "name": "stdout",
     "output_type": "stream",
     "text": [
      "42 Average Loss: 16.490587 lr 4.2e-04\n"
     ]
    },
    {
     "data": {
      "application/vnd.jupyter.widget-view+json": {
       "model_id": "39b709858e374039923ca587673ae2c6",
       "version_major": 2,
       "version_minor": 0
      },
      "text/plain": [
       "  0%|          | 0/59 [00:00<?, ?it/s]"
      ]
     },
     "metadata": {},
     "output_type": "display_data"
    },
    {
     "name": "stdout",
     "output_type": "stream",
     "text": [
      "43 Average Loss: 16.399503 lr 4.1e-04\n"
     ]
    },
    {
     "data": {
      "application/vnd.jupyter.widget-view+json": {
       "model_id": "b52a2e728f594cec8f00a6f3f14ecfc6",
       "version_major": 2,
       "version_minor": 0
      },
      "text/plain": [
       "  0%|          | 0/59 [00:00<?, ?it/s]"
      ]
     },
     "metadata": {},
     "output_type": "display_data"
    },
    {
     "name": "stdout",
     "output_type": "stream",
     "text": [
      "44 Average Loss: 16.094243 lr 4.0e-04\n"
     ]
    },
    {
     "data": {
      "application/vnd.jupyter.widget-view+json": {
       "model_id": "926b07be461e43348b071a8a4109d692",
       "version_major": 2,
       "version_minor": 0
      },
      "text/plain": [
       "  0%|          | 0/59 [00:00<?, ?it/s]"
      ]
     },
     "metadata": {},
     "output_type": "display_data"
    },
    {
     "name": "stdout",
     "output_type": "stream",
     "text": [
      "45 Average Loss: 16.327355 lr 3.9e-04\n"
     ]
    },
    {
     "data": {
      "application/vnd.jupyter.widget-view+json": {
       "model_id": "7d4a3e476b3845779fa5405fb19d7bfe",
       "version_major": 2,
       "version_minor": 0
      },
      "text/plain": [
       "  0%|          | 0/59 [00:00<?, ?it/s]"
      ]
     },
     "metadata": {},
     "output_type": "display_data"
    },
    {
     "name": "stdout",
     "output_type": "stream",
     "text": [
      "46 Average Loss: 16.355874 lr 3.9e-04\n"
     ]
    },
    {
     "data": {
      "application/vnd.jupyter.widget-view+json": {
       "model_id": "7415dae38cc940879d6c3c5f645ad3ba",
       "version_major": 2,
       "version_minor": 0
      },
      "text/plain": [
       "  0%|          | 0/59 [00:00<?, ?it/s]"
      ]
     },
     "metadata": {},
     "output_type": "display_data"
    },
    {
     "name": "stdout",
     "output_type": "stream",
     "text": [
      "47 Average Loss: 16.041542 lr 3.8e-04\n"
     ]
    },
    {
     "data": {
      "application/vnd.jupyter.widget-view+json": {
       "model_id": "f4727bce26ce4dcb894e5c2cb1d3772e",
       "version_major": 2,
       "version_minor": 0
      },
      "text/plain": [
       "  0%|          | 0/59 [00:00<?, ?it/s]"
      ]
     },
     "metadata": {},
     "output_type": "display_data"
    },
    {
     "name": "stdout",
     "output_type": "stream",
     "text": [
      "48 Average Loss: 16.291093 lr 3.7e-04\n"
     ]
    },
    {
     "data": {
      "application/vnd.jupyter.widget-view+json": {
       "model_id": "21cf710af8be48658a523a5e2cf46717",
       "version_major": 2,
       "version_minor": 0
      },
      "text/plain": [
       "  0%|          | 0/59 [00:00<?, ?it/s]"
      ]
     },
     "metadata": {},
     "output_type": "display_data"
    },
    {
     "name": "stdout",
     "output_type": "stream",
     "text": [
      "49 Average Loss: 16.062191 lr 3.6e-04\n"
     ]
    },
    {
     "data": {
      "application/vnd.jupyter.widget-view+json": {
       "model_id": "73a2fcb46cfc4f5ea891b90033f00182",
       "version_major": 2,
       "version_minor": 0
      },
      "text/plain": [
       "  0%|          | 0/59 [00:00<?, ?it/s]"
      ]
     },
     "metadata": {},
     "output_type": "display_data"
    },
    {
     "name": "stdout",
     "output_type": "stream",
     "text": [
      "50 Average Loss: 16.035115 lr 3.6e-04\n"
     ]
    },
    {
     "data": {
      "application/vnd.jupyter.widget-view+json": {
       "model_id": "606cfe33a54d407ea818d79c8dafe963",
       "version_major": 2,
       "version_minor": 0
      },
      "text/plain": [
       "  0%|          | 0/59 [00:00<?, ?it/s]"
      ]
     },
     "metadata": {},
     "output_type": "display_data"
    },
    {
     "name": "stdout",
     "output_type": "stream",
     "text": [
      "51 Average Loss: 16.153144 lr 3.5e-04\n"
     ]
    },
    {
     "data": {
      "application/vnd.jupyter.widget-view+json": {
       "model_id": "09c773d99de849049076399aa93acecd",
       "version_major": 2,
       "version_minor": 0
      },
      "text/plain": [
       "  0%|          | 0/59 [00:00<?, ?it/s]"
      ]
     },
     "metadata": {},
     "output_type": "display_data"
    },
    {
     "name": "stdout",
     "output_type": "stream",
     "text": [
      "52 Average Loss: 16.045512 lr 3.4e-04\n"
     ]
    },
    {
     "data": {
      "application/vnd.jupyter.widget-view+json": {
       "model_id": "be9bfcc91b004a7bbe8f19772e8dfc6e",
       "version_major": 2,
       "version_minor": 0
      },
      "text/plain": [
       "  0%|          | 0/59 [00:00<?, ?it/s]"
      ]
     },
     "metadata": {},
     "output_type": "display_data"
    },
    {
     "name": "stdout",
     "output_type": "stream",
     "text": [
      "53 Average Loss: 16.214030 lr 3.4e-04\n"
     ]
    },
    {
     "data": {
      "application/vnd.jupyter.widget-view+json": {
       "model_id": "7b79e353f9464c9bb8627132fc2d12b1",
       "version_major": 2,
       "version_minor": 0
      },
      "text/plain": [
       "  0%|          | 0/59 [00:00<?, ?it/s]"
      ]
     },
     "metadata": {},
     "output_type": "display_data"
    },
    {
     "name": "stdout",
     "output_type": "stream",
     "text": [
      "54 Average Loss: 16.079396 lr 3.3e-04\n"
     ]
    },
    {
     "data": {
      "application/vnd.jupyter.widget-view+json": {
       "model_id": "dfaf7b81606e45fd8dc431dc4a8d048c",
       "version_major": 2,
       "version_minor": 0
      },
      "text/plain": [
       "  0%|          | 0/59 [00:00<?, ?it/s]"
      ]
     },
     "metadata": {},
     "output_type": "display_data"
    },
    {
     "name": "stdout",
     "output_type": "stream",
     "text": [
      "55 Average Loss: 16.074616 lr 3.2e-04\n"
     ]
    },
    {
     "data": {
      "application/vnd.jupyter.widget-view+json": {
       "model_id": "ea19b38982404ac6a5a7775c28dafcaf",
       "version_major": 2,
       "version_minor": 0
      },
      "text/plain": [
       "  0%|          | 0/59 [00:00<?, ?it/s]"
      ]
     },
     "metadata": {},
     "output_type": "display_data"
    },
    {
     "name": "stdout",
     "output_type": "stream",
     "text": [
      "56 Average Loss: 16.147399 lr 3.2e-04\n"
     ]
    },
    {
     "data": {
      "application/vnd.jupyter.widget-view+json": {
       "model_id": "6eb314f70dc6487a89d40440b48a541b",
       "version_major": 2,
       "version_minor": 0
      },
      "text/plain": [
       "  0%|          | 0/59 [00:00<?, ?it/s]"
      ]
     },
     "metadata": {},
     "output_type": "display_data"
    },
    {
     "name": "stdout",
     "output_type": "stream",
     "text": [
      "57 Average Loss: 15.972788 lr 3.1e-04\n"
     ]
    },
    {
     "data": {
      "application/vnd.jupyter.widget-view+json": {
       "model_id": "eca5e13a40454d689bfd37716119c3b0",
       "version_major": 2,
       "version_minor": 0
      },
      "text/plain": [
       "  0%|          | 0/59 [00:00<?, ?it/s]"
      ]
     },
     "metadata": {},
     "output_type": "display_data"
    },
    {
     "name": "stdout",
     "output_type": "stream",
     "text": [
      "58 Average Loss: 16.037046 lr 3.0e-04\n"
     ]
    },
    {
     "data": {
      "application/vnd.jupyter.widget-view+json": {
       "model_id": "663c5cdaf3004d2ab43ae6b126eff584",
       "version_major": 2,
       "version_minor": 0
      },
      "text/plain": [
       "  0%|          | 0/59 [00:00<?, ?it/s]"
      ]
     },
     "metadata": {},
     "output_type": "display_data"
    },
    {
     "name": "stdout",
     "output_type": "stream",
     "text": [
      "59 Average Loss: 16.095634 lr 3.0e-04\n"
     ]
    },
    {
     "data": {
      "application/vnd.jupyter.widget-view+json": {
       "model_id": "a2a4ab36c39d4537865dde51032ed21b",
       "version_major": 2,
       "version_minor": 0
      },
      "text/plain": [
       "  0%|          | 0/59 [00:00<?, ?it/s]"
      ]
     },
     "metadata": {},
     "output_type": "display_data"
    },
    {
     "name": "stdout",
     "output_type": "stream",
     "text": [
      "60 Average Loss: 15.802841 lr 2.9e-04\n"
     ]
    },
    {
     "data": {
      "application/vnd.jupyter.widget-view+json": {
       "model_id": "4a520e537a244de9b4e053652781403d",
       "version_major": 2,
       "version_minor": 0
      },
      "text/plain": [
       "  0%|          | 0/59 [00:00<?, ?it/s]"
      ]
     },
     "metadata": {},
     "output_type": "display_data"
    },
    {
     "name": "stdout",
     "output_type": "stream",
     "text": [
      "61 Average Loss: 15.924102 lr 2.9e-04\n"
     ]
    },
    {
     "data": {
      "application/vnd.jupyter.widget-view+json": {
       "model_id": "7455edff27d44a1f855a555b6f983ea9",
       "version_major": 2,
       "version_minor": 0
      },
      "text/plain": [
       "  0%|          | 0/59 [00:00<?, ?it/s]"
      ]
     },
     "metadata": {},
     "output_type": "display_data"
    },
    {
     "name": "stdout",
     "output_type": "stream",
     "text": [
      "62 Average Loss: 15.938078 lr 2.8e-04\n"
     ]
    },
    {
     "data": {
      "application/vnd.jupyter.widget-view+json": {
       "model_id": "da7abc0b48d348e5be91f805775993ec",
       "version_major": 2,
       "version_minor": 0
      },
      "text/plain": [
       "  0%|          | 0/59 [00:00<?, ?it/s]"
      ]
     },
     "metadata": {},
     "output_type": "display_data"
    },
    {
     "name": "stdout",
     "output_type": "stream",
     "text": [
      "63 Average Loss: 15.854820 lr 2.7e-04\n"
     ]
    },
    {
     "data": {
      "application/vnd.jupyter.widget-view+json": {
       "model_id": "c5e7acd776284f458e126ce6fc64739e",
       "version_major": 2,
       "version_minor": 0
      },
      "text/plain": [
       "  0%|          | 0/59 [00:00<?, ?it/s]"
      ]
     },
     "metadata": {},
     "output_type": "display_data"
    },
    {
     "name": "stdout",
     "output_type": "stream",
     "text": [
      "64 Average Loss: 15.890369 lr 2.7e-04\n"
     ]
    },
    {
     "data": {
      "application/vnd.jupyter.widget-view+json": {
       "model_id": "41f599b72ff44678a1fe2fcb4e6349dd",
       "version_major": 2,
       "version_minor": 0
      },
      "text/plain": [
       "  0%|          | 0/59 [00:00<?, ?it/s]"
      ]
     },
     "metadata": {},
     "output_type": "display_data"
    },
    {
     "name": "stdout",
     "output_type": "stream",
     "text": [
      "65 Average Loss: 15.641385 lr 2.6e-04\n"
     ]
    },
    {
     "data": {
      "application/vnd.jupyter.widget-view+json": {
       "model_id": "42d07407b9f04f05979cc1e5cf235b7f",
       "version_major": 2,
       "version_minor": 0
      },
      "text/plain": [
       "  0%|          | 0/59 [00:00<?, ?it/s]"
      ]
     },
     "metadata": {},
     "output_type": "display_data"
    },
    {
     "name": "stdout",
     "output_type": "stream",
     "text": [
      "66 Average Loss: 15.726068 lr 2.6e-04\n"
     ]
    },
    {
     "data": {
      "application/vnd.jupyter.widget-view+json": {
       "model_id": "4c15c2aad4964360a3b56512372e2967",
       "version_major": 2,
       "version_minor": 0
      },
      "text/plain": [
       "  0%|          | 0/59 [00:00<?, ?it/s]"
      ]
     },
     "metadata": {},
     "output_type": "display_data"
    },
    {
     "name": "stdout",
     "output_type": "stream",
     "text": [
      "67 Average Loss: 15.967881 lr 2.5e-04\n"
     ]
    },
    {
     "data": {
      "application/vnd.jupyter.widget-view+json": {
       "model_id": "222e5d56b4344486bc80d9a3f2cb3f5d",
       "version_major": 2,
       "version_minor": 0
      },
      "text/plain": [
       "  0%|          | 0/59 [00:00<?, ?it/s]"
      ]
     },
     "metadata": {},
     "output_type": "display_data"
    },
    {
     "name": "stdout",
     "output_type": "stream",
     "text": [
      "68 Average Loss: 15.801222 lr 2.5e-04\n"
     ]
    },
    {
     "data": {
      "application/vnd.jupyter.widget-view+json": {
       "model_id": "c461ce9dccd04b9bb63d93a7a67c594f",
       "version_major": 2,
       "version_minor": 0
      },
      "text/plain": [
       "  0%|          | 0/59 [00:00<?, ?it/s]"
      ]
     },
     "metadata": {},
     "output_type": "display_data"
    },
    {
     "name": "stdout",
     "output_type": "stream",
     "text": [
      "69 Average Loss: 15.851748 lr 2.4e-04\n"
     ]
    },
    {
     "data": {
      "application/vnd.jupyter.widget-view+json": {
       "model_id": "6c2f9895ad9445efb82e55e66cb63b68",
       "version_major": 2,
       "version_minor": 0
      },
      "text/plain": [
       "  0%|          | 0/59 [00:00<?, ?it/s]"
      ]
     },
     "metadata": {},
     "output_type": "display_data"
    },
    {
     "name": "stdout",
     "output_type": "stream",
     "text": [
      "70 Average Loss: 15.828958 lr 2.4e-04\n"
     ]
    },
    {
     "data": {
      "application/vnd.jupyter.widget-view+json": {
       "model_id": "3f408996255e40299f0efdbc392194f7",
       "version_major": 2,
       "version_minor": 0
      },
      "text/plain": [
       "  0%|          | 0/59 [00:00<?, ?it/s]"
      ]
     },
     "metadata": {},
     "output_type": "display_data"
    },
    {
     "name": "stdout",
     "output_type": "stream",
     "text": [
      "71 Average Loss: 15.825669 lr 2.3e-04\n"
     ]
    },
    {
     "data": {
      "application/vnd.jupyter.widget-view+json": {
       "model_id": "d7e103e5831a465f8612508b378d4eac",
       "version_major": 2,
       "version_minor": 0
      },
      "text/plain": [
       "  0%|          | 0/59 [00:00<?, ?it/s]"
      ]
     },
     "metadata": {},
     "output_type": "display_data"
    },
    {
     "name": "stdout",
     "output_type": "stream",
     "text": [
      "72 Average Loss: 15.760899 lr 2.3e-04\n"
     ]
    },
    {
     "data": {
      "application/vnd.jupyter.widget-view+json": {
       "model_id": "3530ce7f217c44d0be2fb6226987857a",
       "version_major": 2,
       "version_minor": 0
      },
      "text/plain": [
       "  0%|          | 0/59 [00:00<?, ?it/s]"
      ]
     },
     "metadata": {},
     "output_type": "display_data"
    },
    {
     "name": "stdout",
     "output_type": "stream",
     "text": [
      "73 Average Loss: 15.623521 lr 2.2e-04\n"
     ]
    },
    {
     "data": {
      "application/vnd.jupyter.widget-view+json": {
       "model_id": "bc795166672c49819d4557f165274f33",
       "version_major": 2,
       "version_minor": 0
      },
      "text/plain": [
       "  0%|          | 0/59 [00:00<?, ?it/s]"
      ]
     },
     "metadata": {},
     "output_type": "display_data"
    },
    {
     "name": "stdout",
     "output_type": "stream",
     "text": [
      "74 Average Loss: 15.782175 lr 2.2e-04\n"
     ]
    },
    {
     "data": {
      "application/vnd.jupyter.widget-view+json": {
       "model_id": "ab52155c60da48dc886a6004b66dc726",
       "version_major": 2,
       "version_minor": 0
      },
      "text/plain": [
       "  0%|          | 0/59 [00:00<?, ?it/s]"
      ]
     },
     "metadata": {},
     "output_type": "display_data"
    },
    {
     "name": "stdout",
     "output_type": "stream",
     "text": [
      "75 Average Loss: 16.058268 lr 2.2e-04\n"
     ]
    },
    {
     "data": {
      "application/vnd.jupyter.widget-view+json": {
       "model_id": "b0576398728d4c27a052b709e504cac8",
       "version_major": 2,
       "version_minor": 0
      },
      "text/plain": [
       "  0%|          | 0/59 [00:00<?, ?it/s]"
      ]
     },
     "metadata": {},
     "output_type": "display_data"
    },
    {
     "name": "stdout",
     "output_type": "stream",
     "text": [
      "76 Average Loss: 15.785809 lr 2.1e-04\n"
     ]
    },
    {
     "data": {
      "application/vnd.jupyter.widget-view+json": {
       "model_id": "1cc1ee46d62642e8ae591bb0e3a6ce26",
       "version_major": 2,
       "version_minor": 0
      },
      "text/plain": [
       "  0%|          | 0/59 [00:00<?, ?it/s]"
      ]
     },
     "metadata": {},
     "output_type": "display_data"
    },
    {
     "name": "stdout",
     "output_type": "stream",
     "text": [
      "77 Average Loss: 15.701423 lr 2.1e-04\n"
     ]
    },
    {
     "data": {
      "application/vnd.jupyter.widget-view+json": {
       "model_id": "1ecb833bf6f042dd9da3529557e8383c",
       "version_major": 2,
       "version_minor": 0
      },
      "text/plain": [
       "  0%|          | 0/59 [00:00<?, ?it/s]"
      ]
     },
     "metadata": {},
     "output_type": "display_data"
    },
    {
     "name": "stdout",
     "output_type": "stream",
     "text": [
      "78 Average Loss: 15.607373 lr 2.0e-04\n"
     ]
    },
    {
     "data": {
      "application/vnd.jupyter.widget-view+json": {
       "model_id": "897b93a6a2064d6b8a8b7455fe5e336f",
       "version_major": 2,
       "version_minor": 0
      },
      "text/plain": [
       "  0%|          | 0/59 [00:00<?, ?it/s]"
      ]
     },
     "metadata": {},
     "output_type": "display_data"
    },
    {
     "name": "stdout",
     "output_type": "stream",
     "text": [
      "79 Average Loss: 15.640840 lr 2.0e-04\n"
     ]
    },
    {
     "data": {
      "application/vnd.jupyter.widget-view+json": {
       "model_id": "93ed9ea91c3a41fdb778ee792b400021",
       "version_major": 2,
       "version_minor": 0
      },
      "text/plain": [
       "  0%|          | 0/59 [00:00<?, ?it/s]"
      ]
     },
     "metadata": {},
     "output_type": "display_data"
    },
    {
     "name": "stdout",
     "output_type": "stream",
     "text": [
      "80 Average Loss: 15.667152 lr 2.0e-04\n"
     ]
    },
    {
     "data": {
      "application/vnd.jupyter.widget-view+json": {
       "model_id": "62cfbaae02e841f78fa7d475be93e7ff",
       "version_major": 2,
       "version_minor": 0
      },
      "text/plain": [
       "  0%|          | 0/59 [00:00<?, ?it/s]"
      ]
     },
     "metadata": {},
     "output_type": "display_data"
    },
    {
     "name": "stdout",
     "output_type": "stream",
     "text": [
      "81 Average Loss: 15.642673 lr 2.0e-04\n"
     ]
    },
    {
     "data": {
      "application/vnd.jupyter.widget-view+json": {
       "model_id": "b8db26bebdd94f29bc8b5a49085f000e",
       "version_major": 2,
       "version_minor": 0
      },
      "text/plain": [
       "  0%|          | 0/59 [00:00<?, ?it/s]"
      ]
     },
     "metadata": {},
     "output_type": "display_data"
    },
    {
     "name": "stdout",
     "output_type": "stream",
     "text": [
      "82 Average Loss: 15.804816 lr 2.0e-04\n"
     ]
    },
    {
     "data": {
      "application/vnd.jupyter.widget-view+json": {
       "model_id": "28e5d005204d4df683da8f97cc9765f6",
       "version_major": 2,
       "version_minor": 0
      },
      "text/plain": [
       "  0%|          | 0/59 [00:00<?, ?it/s]"
      ]
     },
     "metadata": {},
     "output_type": "display_data"
    },
    {
     "name": "stdout",
     "output_type": "stream",
     "text": [
      "83 Average Loss: 15.685561 lr 2.0e-04\n"
     ]
    },
    {
     "data": {
      "application/vnd.jupyter.widget-view+json": {
       "model_id": "1332a6c0504149629a0355c06bac803e",
       "version_major": 2,
       "version_minor": 0
      },
      "text/plain": [
       "  0%|          | 0/59 [00:00<?, ?it/s]"
      ]
     },
     "metadata": {},
     "output_type": "display_data"
    },
    {
     "name": "stdout",
     "output_type": "stream",
     "text": [
      "84 Average Loss: 15.583893 lr 2.0e-04\n"
     ]
    },
    {
     "data": {
      "application/vnd.jupyter.widget-view+json": {
       "model_id": "962369312f1b43ee9a78e6a3cdc7d2c4",
       "version_major": 2,
       "version_minor": 0
      },
      "text/plain": [
       "  0%|          | 0/59 [00:00<?, ?it/s]"
      ]
     },
     "metadata": {},
     "output_type": "display_data"
    },
    {
     "name": "stdout",
     "output_type": "stream",
     "text": [
      "85 Average Loss: 15.601674 lr 2.0e-04\n"
     ]
    },
    {
     "data": {
      "application/vnd.jupyter.widget-view+json": {
       "model_id": "069f742e15ef4502b33cb51741899326",
       "version_major": 2,
       "version_minor": 0
      },
      "text/plain": [
       "  0%|          | 0/59 [00:00<?, ?it/s]"
      ]
     },
     "metadata": {},
     "output_type": "display_data"
    },
    {
     "name": "stdout",
     "output_type": "stream",
     "text": [
      "86 Average Loss: 15.581751 lr 2.0e-04\n"
     ]
    },
    {
     "data": {
      "application/vnd.jupyter.widget-view+json": {
       "model_id": "ff59c77813a4452f9c8d979534860925",
       "version_major": 2,
       "version_minor": 0
      },
      "text/plain": [
       "  0%|          | 0/59 [00:00<?, ?it/s]"
      ]
     },
     "metadata": {},
     "output_type": "display_data"
    },
    {
     "name": "stdout",
     "output_type": "stream",
     "text": [
      "87 Average Loss: 15.628468 lr 2.0e-04\n"
     ]
    },
    {
     "data": {
      "application/vnd.jupyter.widget-view+json": {
       "model_id": "dab9acf38184400ca49e70f36137e9fb",
       "version_major": 2,
       "version_minor": 0
      },
      "text/plain": [
       "  0%|          | 0/59 [00:00<?, ?it/s]"
      ]
     },
     "metadata": {},
     "output_type": "display_data"
    },
    {
     "name": "stdout",
     "output_type": "stream",
     "text": [
      "88 Average Loss: 15.544418 lr 2.0e-04\n"
     ]
    },
    {
     "data": {
      "application/vnd.jupyter.widget-view+json": {
       "model_id": "7b45fc42a8ef48cda107cf9aadd6a641",
       "version_major": 2,
       "version_minor": 0
      },
      "text/plain": [
       "  0%|          | 0/59 [00:00<?, ?it/s]"
      ]
     },
     "metadata": {},
     "output_type": "display_data"
    },
    {
     "name": "stdout",
     "output_type": "stream",
     "text": [
      "89 Average Loss: 15.626860 lr 2.0e-04\n"
     ]
    },
    {
     "data": {
      "application/vnd.jupyter.widget-view+json": {
       "model_id": "577f1922f44947f2a37dd9ec4ef6f734",
       "version_major": 2,
       "version_minor": 0
      },
      "text/plain": [
       "  0%|          | 0/59 [00:00<?, ?it/s]"
      ]
     },
     "metadata": {},
     "output_type": "display_data"
    },
    {
     "name": "stdout",
     "output_type": "stream",
     "text": [
      "90 Average Loss: 15.343292 lr 2.0e-04\n"
     ]
    },
    {
     "data": {
      "application/vnd.jupyter.widget-view+json": {
       "model_id": "70f18a0fb714498084f09d824a253e11",
       "version_major": 2,
       "version_minor": 0
      },
      "text/plain": [
       "  0%|          | 0/59 [00:00<?, ?it/s]"
      ]
     },
     "metadata": {},
     "output_type": "display_data"
    },
    {
     "name": "stdout",
     "output_type": "stream",
     "text": [
      "91 Average Loss: 15.482217 lr 2.0e-04\n"
     ]
    },
    {
     "data": {
      "application/vnd.jupyter.widget-view+json": {
       "model_id": "4c6ec61e8b0841339f16118ae4c870ce",
       "version_major": 2,
       "version_minor": 0
      },
      "text/plain": [
       "  0%|          | 0/59 [00:00<?, ?it/s]"
      ]
     },
     "metadata": {},
     "output_type": "display_data"
    },
    {
     "name": "stdout",
     "output_type": "stream",
     "text": [
      "92 Average Loss: 15.472912 lr 2.0e-04\n"
     ]
    },
    {
     "data": {
      "application/vnd.jupyter.widget-view+json": {
       "model_id": "f23d6e81bef64fa9b4c4325d35eb5d36",
       "version_major": 2,
       "version_minor": 0
      },
      "text/plain": [
       "  0%|          | 0/59 [00:00<?, ?it/s]"
      ]
     },
     "metadata": {},
     "output_type": "display_data"
    },
    {
     "name": "stdout",
     "output_type": "stream",
     "text": [
      "93 Average Loss: 15.562013 lr 2.0e-04\n"
     ]
    },
    {
     "data": {
      "application/vnd.jupyter.widget-view+json": {
       "model_id": "293e2c00bc004b90a4a7c06df6cad1fb",
       "version_major": 2,
       "version_minor": 0
      },
      "text/plain": [
       "  0%|          | 0/59 [00:00<?, ?it/s]"
      ]
     },
     "metadata": {},
     "output_type": "display_data"
    },
    {
     "name": "stdout",
     "output_type": "stream",
     "text": [
      "94 Average Loss: 15.602134 lr 2.0e-04\n"
     ]
    },
    {
     "data": {
      "application/vnd.jupyter.widget-view+json": {
       "model_id": "113485954a2a46bf91dc37a4d173cbc9",
       "version_major": 2,
       "version_minor": 0
      },
      "text/plain": [
       "  0%|          | 0/59 [00:00<?, ?it/s]"
      ]
     },
     "metadata": {},
     "output_type": "display_data"
    },
    {
     "name": "stdout",
     "output_type": "stream",
     "text": [
      "95 Average Loss: 15.661301 lr 2.0e-04\n"
     ]
    },
    {
     "data": {
      "application/vnd.jupyter.widget-view+json": {
       "model_id": "5c28759c677a45c9ad01e888b76794ac",
       "version_major": 2,
       "version_minor": 0
      },
      "text/plain": [
       "  0%|          | 0/59 [00:00<?, ?it/s]"
      ]
     },
     "metadata": {},
     "output_type": "display_data"
    },
    {
     "name": "stdout",
     "output_type": "stream",
     "text": [
      "96 Average Loss: 15.638861 lr 2.0e-04\n"
     ]
    },
    {
     "data": {
      "application/vnd.jupyter.widget-view+json": {
       "model_id": "8e5f399324f84cd6bdd339ac35404433",
       "version_major": 2,
       "version_minor": 0
      },
      "text/plain": [
       "  0%|          | 0/59 [00:00<?, ?it/s]"
      ]
     },
     "metadata": {},
     "output_type": "display_data"
    },
    {
     "name": "stdout",
     "output_type": "stream",
     "text": [
      "97 Average Loss: 15.688277 lr 2.0e-04\n"
     ]
    },
    {
     "data": {
      "application/vnd.jupyter.widget-view+json": {
       "model_id": "2b7df1178dd7496e9d24d86027b9c8f4",
       "version_major": 2,
       "version_minor": 0
      },
      "text/plain": [
       "  0%|          | 0/59 [00:00<?, ?it/s]"
      ]
     },
     "metadata": {},
     "output_type": "display_data"
    },
    {
     "name": "stdout",
     "output_type": "stream",
     "text": [
      "98 Average Loss: 15.567179 lr 2.0e-04\n"
     ]
    },
    {
     "data": {
      "application/vnd.jupyter.widget-view+json": {
       "model_id": "16336e70d9a244a8a1d60ae188cadadb",
       "version_major": 2,
       "version_minor": 0
      },
      "text/plain": [
       "  0%|          | 0/59 [00:00<?, ?it/s]"
      ]
     },
     "metadata": {},
     "output_type": "display_data"
    },
    {
     "name": "stdout",
     "output_type": "stream",
     "text": [
      "99 Average Loss: 15.513846 lr 2.0e-04\n"
     ]
    }
   ],
   "source": [
    "#@title Training model\n",
    "\n",
    "continue_training = True #@param {type:\"boolean\"}\n",
    "if not continue_training:\n",
    "  print(\"initilize new score model...\")\n",
    "  score_model = torch.nn.DataParallel(UNet_Tranformer(marginal_prob_std=marginal_prob_std_fn))\n",
    "  score_model = score_model.to(device)\n",
    "\n",
    "\n",
    "n_epochs =   100#@param {'type':'integer'}\n",
    "## size of a mini-batch\n",
    "batch_size =  1024 #@param {'type':'integer'}\n",
    "## learning rate\n",
    "lr=10e-4 #@param {'type':'number'}\n",
    "\n",
    "dataset = MNIST('.', train=True, transform=transforms.ToTensor(), download=True)\n",
    "data_loader = DataLoader(dataset, batch_size=batch_size, shuffle=True, num_workers=4)\n",
    "\n",
    "optimizer = Adam(score_model.parameters(), lr=lr)\n",
    "scheduler = LambdaLR(optimizer, lr_lambda=lambda epoch: max(0.2, 0.98 ** epoch))\n",
    "tqdm_epoch = trange(n_epochs)\n",
    "for epoch in tqdm_epoch:\n",
    "  avg_loss = 0.\n",
    "  num_items = 0\n",
    "  for x, y in tqdm(data_loader):\n",
    "    x = x.to(device)    \n",
    "    loss = loss_fn_cond(score_model, x, y, marginal_prob_std_fn)\n",
    "    optimizer.zero_grad()\n",
    "    loss.backward()    \n",
    "    optimizer.step()\n",
    "    avg_loss += loss.item() * x.shape[0]\n",
    "    num_items += x.shape[0]\n",
    "  scheduler.step()\n",
    "  lr_current = scheduler.get_last_lr()[0]\n",
    "  print('{} Average Loss: {:5f} lr {:.1e}'.format(epoch, avg_loss / num_items, lr_current))\n",
    "  # Print the averaged training loss so far.\n",
    "  tqdm_epoch.set_description('Average Loss: {:5f}'.format(avg_loss / num_items))\n",
    "  # Update the checkpoint after each epoch of training.\n",
    "  torch.save(score_model.state_dict(), 'ckpt_transformer.pth')"
   ]
  },
  {
   "cell_type": "code",
   "execution_count": 32,
   "id": "9fc8d027",
   "metadata": {},
   "outputs": [],
   "source": [
    "#@title Sampler code\n",
    "num_steps = 500#@param {'type':'integer'}\n",
    "def Euler_Maruyama_sampler(score_model, \n",
    "              marginal_prob_std,\n",
    "              diffusion_coeff, \n",
    "              batch_size=64, \n",
    "              x_shape=(1, 28, 28),\n",
    "              num_steps=num_steps, \n",
    "              device='cuda', \n",
    "              eps=1e-3, y=None):\n",
    "  # Generate samples from score-based models with the Euler-Maruyama solver.\n",
    "\n",
    "  # Args:\n",
    "  # score_model: A PyTorch model that represents the time-dependent score-based model.\n",
    "  #  marginal_prob_std: A function that gives the standard deviation of\n",
    "  #    the perturbation kernel.\n",
    "  #  diffusion_coeff: A function that gives the diffusion coefficient of the SDE.\n",
    "  #  batch_size: The number of samplers to generate by calling this function once.\n",
    "  #  num_steps: The number of sampling steps. \n",
    "  #    Equivalent to the number of discretized time steps.\n",
    "  #  device: 'cuda' for running on GPUs, and 'cpu' for running on CPUs.\n",
    "  #  eps: The smallest time step for numerical stability.\n",
    "  \n",
    "  # Returns:\n",
    "  #  Samples.    \n",
    "  \n",
    "  t = torch.ones(batch_size, device=device)\n",
    "  init_x = torch.randn(batch_size, *x_shape, device=device) \\\n",
    "    * marginal_prob_std(t)[:, None, None, None]\n",
    "  time_steps = torch.linspace(1., eps, num_steps, device=device)\n",
    "  step_size = time_steps[0] - time_steps[1]\n",
    "  x = init_x\n",
    "  with torch.no_grad():\n",
    "    for time_step in tqdm(time_steps):      \n",
    "      batch_time_step = torch.ones(batch_size, device=device) * time_step\n",
    "      g = diffusion_coeff(batch_time_step)\n",
    "      mean_x = x + (g**2)[:, None, None, None] * score_model(x, batch_time_step, y=y) * step_size\n",
    "      x = mean_x + torch.sqrt(step_size) * g[:, None, None, None] * torch.randn_like(x)      \n",
    "  # Do not include any noise in the last sampling step.\n",
    "  return mean_x"
   ]
  },
  {
   "cell_type": "code",
   "execution_count": 37,
   "id": "4d073462",
   "metadata": {},
   "outputs": [
    {
     "name": "stderr",
     "output_type": "stream",
     "text": [
      "/tmp/ipykernel_490364/1799332901.py:44: UserWarning: To copy construct from a tensor, it is recommended to use sourceTensor.clone().detach() or sourceTensor.clone().detach().requires_grad_(True), rather than torch.tensor(sourceTensor).\n",
      "  t = torch.tensor(t, device=device)\n"
     ]
    },
    {
     "data": {
      "application/vnd.jupyter.widget-view+json": {
       "model_id": "ba87441bbb3d40cf976bc2bd4654f2ac",
       "version_major": 2,
       "version_minor": 0
      },
      "text/plain": [
       "  0%|          | 0/250 [00:00<?, ?it/s]"
      ]
     },
     "metadata": {},
     "output_type": "display_data"
    },
    {
     "name": "stderr",
     "output_type": "stream",
     "text": [
      "/tmp/ipykernel_490364/1799332901.py:57: UserWarning: To copy construct from a tensor, it is recommended to use sourceTensor.clone().detach() or sourceTensor.clone().detach().requires_grad_(True), rather than torch.tensor(sourceTensor).\n",
      "  return torch.tensor(sigma**t, device=device)\n"
     ]
    },
    {
     "data": {
      "image/png": "[encoded data removed]",
      "text/plain": [
       "<Figure size 600x600 with 1 Axes>"
      ]
     },
     "metadata": {},
     "output_type": "display_data"
    }
   ],
   "source": [
    "## Load the pre-trained checkpoint from disk.\n",
    "# device = 'cuda' #@param ['cuda', 'cpu'] {'type':'string'}\n",
    "# ckpt = torch.load('ckpt.pth', map_location=device)\n",
    "# score_model.load_state_dict(ckpt)\n",
    "digit = 3 #@param {'type':'integer'}\n",
    "sample_batch_size = 64 #@param {'type':'integer'}\n",
    "num_steps = 250 #@param {'type':'integer'}\n",
    "sampler = Euler_Maruyama_sampler #@param ['Euler_Maruyama_sampler', 'pc_sampler', 'ode_sampler'] {'type': 'raw'}\n",
    "# score_model.eval()\n",
    "## Generate samples using the specified sampler.\n",
    "\n",
    "y_input = digit*torch.ones(sample_batch_size, dtype=torch.long)\n",
    "\n",
    "half_size = sample_batch_size // 2\n",
    "y_input = torch.cat([7 * torch.ones(half_size, dtype=torch.long), 8 * torch.ones(half_size, dtype=torch.long)], dim=0)\n",
    "\n",
    "\n",
    "samples = sampler(score_model, \n",
    "        marginal_prob_std_fn,\n",
    "        diffusion_coeff_fn, \n",
    "        sample_batch_size, \n",
    "        num_steps=num_steps,\n",
    "        device=device,\n",
    "        y=y_input)\n",
    "\n",
    "## Sample visualization.\n",
    "samples = samples.clamp(0.0, 1.0)\n",
    "%matplotlib inline\n",
    "import matplotlib.pyplot as plt\n",
    "sample_grid = make_grid(samples, nrow=int(np.sqrt(sample_batch_size)))\n",
    "\n",
    "plt.figure(figsize=(6,6))\n",
    "plt.axis('off')\n",
    "plt.imshow(sample_grid.permute(1, 2, 0).cpu(), vmin=0., vmax=1.)\n",
    "plt.show()"
   ]
  },
  {
   "cell_type": "code",
   "execution_count": null,
   "id": "953059ca",
   "metadata": {},
   "outputs": [],
   "source": []
  },
  {
   "cell_type": "code",
   "execution_count": null,
   "id": "206d1a4f",
   "metadata": {},
   "outputs": [],
   "source": []
  }
 ],
 "metadata": {
  "kernelspec": {
   "display_name": "Python 3 (ipykernel)",
   "language": "python",
   "name": "python3"
  },
  "language_info": {
   "codemirror_mode": {
    "name": "ipython",
    "version": 3
   },
   "file_extension": ".py",
   "mimetype": "text/x-python",
   "name": "python",
   "nbconvert_exporter": "python",
   "pygments_lexer": "ipython3",
   "version": "3.8.10"
  }
 },
 "nbformat": 4,
 "nbformat_minor": 5
}
