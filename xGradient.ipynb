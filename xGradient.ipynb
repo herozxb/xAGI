{
 "cells": [
  {
   "cell_type": "code",
   "execution_count": 1,
   "metadata": {},
   "outputs": [
    {
     "name": "stdout",
     "output_type": "stream",
     "text": [
      "Populating the interactive namespace from numpy and matplotlib\n"
     ]
    }
   ],
   "source": [
    "%pylab inline\n",
    "import numpy as np\n",
    "from tqdm import trange\n",
    "np.set_printoptions(suppress=True)"
   ]
  },
  {
   "cell_type": "code",
   "execution_count": 2,
   "metadata": {},
   "outputs": [],
   "source": [
    "# load the mnist dataset\n",
    "\n",
    "def fetch(url):\n",
    "  import requests, gzip, os, hashlib, numpy\n",
    "  fp = os.path.join(\"/tmp\", hashlib.md5(url.encode('utf-8')).hexdigest())\n",
    "  if os.path.isfile(fp):\n",
    "    with open(fp, \"rb\") as f:\n",
    "      dat = f.read()\n",
    "  else:\n",
    "    with open(fp, \"wb\") as f:\n",
    "      dat = requests.get(url).content\n",
    "      f.write(dat)\n",
    "  return numpy.frombuffer(gzip.decompress(dat), dtype=np.uint8).copy()\n",
    "X_train = fetch(\"http://yann.lecun.com/exdb/mnist/train-images-idx3-ubyte.gz\")[0x10:].reshape((-1, 28, 28))\n",
    "Y_train = fetch(\"http://yann.lecun.com/exdb/mnist/train-labels-idx1-ubyte.gz\")[8:]\n",
    "X_test = fetch(\"http://yann.lecun.com/exdb/mnist/t10k-images-idx3-ubyte.gz\")[0x10:].reshape((-1, 28, 28))\n",
    "Y_test = fetch(\"http://yann.lecun.com/exdb/mnist/t10k-labels-idx1-ubyte.gz\")[8:]"
   ]
  },
  {
   "cell_type": "code",
   "execution_count": 3,
   "metadata": {},
   "outputs": [],
   "source": [
    "# model\n",
    "import torch\n",
    "import torch.nn as nn\n",
    "import torch.nn.functional as F\n",
    "torch.set_printoptions(sci_mode=False)\n",
    "\n",
    "class BobNet(torch.nn.Module):\n",
    "  def __init__(self):\n",
    "    super(BobNet, self).__init__()\n",
    "    self.l1 = nn.Linear(784, 128, bias=False)\n",
    "    self.l2 = nn.Linear(128, 10, bias=False)\n",
    "    self.sm = nn.LogSoftmax(dim=1) # log(softmax(x))   log(Softmax(x)) \n",
    "  def forward(self, x):\n",
    "    x = F.relu(self.l1(x))\n",
    "    x = self.l2(x)\n",
    "    x = self.sm(x)\n",
    "    return x\n"
   ]
  },
  {
   "cell_type": "code",
   "execution_count": 4,
   "metadata": {},
   "outputs": [
    {
     "name": "stdout",
     "output_type": "stream",
     "text": [
      "<class 'generator'>\n",
      "torch.Size([128, 784])\n",
      "torch.Size([10, 128])\n",
      "(60000, 28, 28)\n",
      "60000\n",
      "[25930 10590 45972 35972  3537 22178 35930 42496 36656 16313  6226 28018\n",
      " 13742 58573 51694 20403 21458 18920 48067 34624 52658 32859 45134  4213\n",
      "  9989 28255 48784 44891 47414 21141 39173 29128 10231 41070 41435 55478\n",
      " 54840 32200 54207 58305 15166 52685 32709 11960 37175 54182 12310 53141\n",
      " 46433 32131 43727 51578 53785 21189  5541 25338 41605 40540 55719 12504\n",
      " 50322 53129 38293 23316 35042 52736 18186 14830  9749 32907 30998 15548\n",
      "  4549 17133 17883 56050 32339 14570 55324  6031  7367 33038 25690 22575\n",
      " 56528  9223 11954  8533 59228 57413  8701 11235  1450 31839 20313 28757\n",
      "  5904  7264 39546 18981 24763 31136  2792 57322 31923 41356 52379 13533\n",
      " 27700 45443 12353 49848 14429 57803 41166 28272  9372 46681 37908 56757\n",
      " 29568  5423 57805 44995 28390 14094 16383  9135]\n",
      "(128,)\n",
      "[[[0 0 0 ... 0 0 0]\n",
      "  [0 0 0 ... 0 0 0]\n",
      "  [0 0 0 ... 0 0 0]\n",
      "  ...\n",
      "  [0 0 0 ... 0 0 0]\n",
      "  [0 0 0 ... 0 0 0]\n",
      "  [0 0 0 ... 0 0 0]]\n",
      "\n",
      " [[0 0 0 ... 0 0 0]\n",
      "  [0 0 0 ... 0 0 0]\n",
      "  [0 0 0 ... 0 0 0]\n",
      "  ...\n",
      "  [0 0 0 ... 0 0 0]\n",
      "  [0 0 0 ... 0 0 0]\n",
      "  [0 0 0 ... 0 0 0]]\n",
      "\n",
      " [[0 0 0 ... 0 0 0]\n",
      "  [0 0 0 ... 0 0 0]\n",
      "  [0 0 0 ... 0 0 0]\n",
      "  ...\n",
      "  [0 0 0 ... 0 0 0]\n",
      "  [0 0 0 ... 0 0 0]\n",
      "  [0 0 0 ... 0 0 0]]\n",
      "\n",
      " ...\n",
      "\n",
      " [[0 0 0 ... 0 0 0]\n",
      "  [0 0 0 ... 0 0 0]\n",
      "  [0 0 0 ... 0 0 0]\n",
      "  ...\n",
      "  [0 0 0 ... 0 0 0]\n",
      "  [0 0 0 ... 0 0 0]\n",
      "  [0 0 0 ... 0 0 0]]\n",
      "\n",
      " [[0 0 0 ... 0 0 0]\n",
      "  [0 0 0 ... 0 0 0]\n",
      "  [0 0 0 ... 0 0 0]\n",
      "  ...\n",
      "  [0 0 0 ... 0 0 0]\n",
      "  [0 0 0 ... 0 0 0]\n",
      "  [0 0 0 ... 0 0 0]]\n",
      "\n",
      " [[0 0 0 ... 0 0 0]\n",
      "  [0 0 0 ... 0 0 0]\n",
      "  [0 0 0 ... 0 0 0]\n",
      "  ...\n",
      "  [0 0 0 ... 0 0 0]\n",
      "  [0 0 0 ... 0 0 0]\n",
      "  [0 0 0 ... 0 0 0]]]\n",
      "(60000, 28, 28)\n",
      "[ 3  3  3  4  5  6  7  8  9 10]\n",
      "[3 7]\n",
      "[4 8]\n",
      "tensor([[   -26.8724,     -7.2647,    -29.0350,  ...,     -0.3898,\n",
      "            -43.8003,    -11.5402],\n",
      "        [    -5.5027,    -12.4537,    -52.2776,  ...,    -21.0784,\n",
      "            -66.8917,    -90.8628],\n",
      "        [   -39.1225,    -23.0742,    -15.3245,  ...,    -32.7503,\n",
      "            -69.8723,    -78.3548],\n",
      "        ...,\n",
      "        [   -24.1856,    -17.7639,    -32.8329,  ...,    -22.7780,\n",
      "            -53.6534,    -71.2897],\n",
      "        [   -19.1396,    -41.5853,    -13.6074,  ...,     -0.0000,\n",
      "            -33.9239,    -36.5078],\n",
      "        [   -33.1358,    -31.6934,    -24.4026,  ...,    -44.0297,\n",
      "            -60.2603,    -56.3962]], grad_fn=<LogSoftmaxBackward>)\n",
      "torch.Size([128, 10])\n",
      "tensor([7, 3, 3, 1, 0, 3, 1, 5, 5, 3, 6, 2, 2, 2, 6, 6, 2, 8, 3, 6, 6, 2, 1, 7,\n",
      "        1, 3, 6, 2, 6, 7, 6, 4, 6, 1, 1, 3, 3, 1, 2, 6, 2, 3, 2, 6, 1, 2, 6, 6,\n",
      "        5, 2, 6, 1, 6, 6, 6, 4, 3, 2, 3, 0, 3, 3, 2, 7, 6, 8, 6, 6, 4, 2, 5, 1,\n",
      "        4, 7, 6, 5, 2, 1, 6, 1, 2, 3, 7, 4, 6, 6, 1, 4, 6, 4, 7, 6, 7, 5, 3, 3,\n",
      "        5, 6, 2, 3, 7, 8, 6, 5, 3, 3, 6, 0, 6, 6, 6, 2, 5, 7, 1, 4, 6, 6, 3, 2,\n",
      "        1, 2, 2, 3, 5, 3, 7, 3])\n",
      "torch.Size([128])\n",
      "tensor(0.1875)\n",
      "torch.Size([])\n",
      "0.1875\n"
     ]
    }
   ],
   "source": [
    "# debug \n",
    "\n",
    "model = BobNet()\n",
    "#dir(model.parameters())\n",
    "print(type(model.parameters())) # 返回的是一个generator\n",
    "\n",
    "for para in model.parameters():\n",
    "    print(para.size()) # 只查看形状\n",
    "    \n",
    "BS = 128\n",
    "print(X_train.shape)\n",
    "print(X_train.shape[0])\n",
    "samp = np.random.randint(0, X_train.shape[0], size=(BS))\n",
    "print(samp)\n",
    "print(samp.shape)\n",
    "print(X_train)\n",
    "print(X_train.shape)\n",
    "X_train[samp]\n",
    "\n",
    "list2 = [ 1, 2, 3, 4, 5, 6, 7, 8, 9, 10]\n",
    "x = np.maximum(list2, 3)\n",
    "print(x)\n",
    "list2=np.array(list2)\n",
    "test = np.random.randint(1, 10, size=(2))\n",
    "print(test)\n",
    "print(list2[test])\n",
    "# test = [1 4],  list2[test] = [2 5] get the number of position 1, and 4 in the array np.(list2)\n",
    "\n",
    "samp = np.random.randint(0, X_train.shape[0], size=(BS))\n",
    "X = torch.tensor(X_train[samp].reshape((-1, 28*28))).float()\n",
    "Y = torch.tensor(Y_train[samp]).long()\n",
    "model.zero_grad() #模型中参数的梯度设为0\n",
    "out = model(X)\n",
    "cat = torch.argmax(out, dim=1)\n",
    "\n",
    "print(out)\n",
    "print(out.shape)\n",
    "print(cat)\n",
    "print(cat.shape)\n",
    "accuracy = (cat == Y).float().mean()\n",
    "print(accuracy)\n",
    "print(accuracy.shape)\n",
    "accuracy = accuracy.item()\n",
    "print(accuracy)\n",
    "#print(accuracy.shape)"
   ]
  },
  {
   "cell_type": "code",
   "execution_count": 5,
   "metadata": {},
   "outputs": [
    {
     "name": "stderr",
     "output_type": "stream",
     "text": [
      "loss 0.36 accuracy 0.90: 100%|██████████| 1000/1000 [00:02<00:00, 418.95it/s]\n"
     ]
    },
    {
     "data": {
      "text/plain": [
       "[<matplotlib.lines.Line2D at 0x12cc92c18>]"
      ]
     },
     "execution_count": 5,
     "metadata": {},
     "output_type": "execute_result"
    },
    {
     "data": {
      "image/png": "[encoded data removed]",
      "text/plain": [
       "<Figure size 432x288 with 1 Axes>"
      ]
     },
     "metadata": {},
     "output_type": "display_data"
    }
   ],
   "source": [
    "# training\n",
    "model = BobNet()\n",
    "\n",
    "# protip: if you like accuracy like 96 not like 93, next time through the notebook, consider\n",
    "# CHAD MODE WEIGHT INIT WITH NUMPY\n",
    "# instead of virgin torch init mode\n",
    "# TODO: why is torch linear init bad?\n",
    "\"\"\"\n",
    "with torch.no_grad():\n",
    "  model.l1.weight.copy_(torch.tensor(layer_init(784, 128).T))\n",
    "  model.l2.weight.copy_(torch.tensor(layer_init(128, 10).T))\n",
    "\"\"\"\n",
    "\n",
    "loss_function = nn.NLLLoss(reduction='none')\n",
    "optim = torch.optim.SGD(model.parameters(), lr=0.001, momentum=0)\n",
    "BS = 128\n",
    "losses, accuracies = [], []\n",
    "t = trange(1000)\n",
    "for i in (t):\n",
    "  samp = np.random.randint(0, X_train.shape[0], size=(BS))\n",
    "  X = torch.tensor(X_train[samp].reshape((-1, 28*28))).float()\n",
    "  Y = torch.tensor(Y_train[samp]).long()\n",
    "  model.zero_grad() #模型中参数的梯度设为0\n",
    "  out = model(X)\n",
    "  cat = torch.argmax(out, dim=1)\n",
    "  accuracy = (cat == Y).float().mean()\n",
    "  loss = loss_function(out, Y)\n",
    "  loss = loss.mean()\n",
    "  loss.backward()\n",
    "  optim.step()\n",
    "  loss, accuracy = loss.item(), accuracy.item()\n",
    "  losses.append(loss)\n",
    "  accuracies.append(accuracy)\n",
    "  t.set_description(\"loss %.2f accuracy %.2f\" % (loss, accuracy))\n",
    "plt.ylim(-0.1, 1.1)\n",
    "plot(losses)\n",
    "plot(accuracies)"
   ]
  },
  {
   "cell_type": "code",
   "execution_count": 6,
   "metadata": {},
   "outputs": [
    {
     "data": {
      "text/plain": [
       "0.9266"
      ]
     },
     "execution_count": 6,
     "metadata": {},
     "output_type": "execute_result"
    }
   ],
   "source": [
    "# evaluation\n",
    "Y_test_preds = torch.argmax(model(torch.tensor(X_test.reshape((-1, 28*28))).float()), dim=1).numpy()\n",
    "(Y_test == Y_test_preds).mean()"
   ]
  },
  {
   "cell_type": "code",
   "execution_count": 7,
   "metadata": {},
   "outputs": [
    {
     "data": {
      "text/plain": [
       "<matplotlib.image.AxesImage at 0x112e66320>"
      ]
     },
     "execution_count": 7,
     "metadata": {},
     "output_type": "execute_result"
    },
    {
     "data": {
      "image/png": "[encoded data removed]",
      "text/plain": [
       "<Figure size 432x288 with 1 Axes>"
      ]
     },
     "metadata": {},
     "output_type": "display_data"
    },
    {
     "data": {
      "image/png": "[encoded data removed]",
      "text/plain": [
       "<Figure size 432x288 with 1 Axes>"
      ]
     },
     "metadata": {},
     "output_type": "display_data"
    }
   ],
   "source": [
    "# compute gradients in torch\n",
    "samp = [0,1,2,3]\n",
    "model.zero_grad()\n",
    "out = model(torch.tensor(X_test[samp].reshape((-1, 28*28))).float())\n",
    "out.retain_grad()\n",
    "loss = loss_function(out, torch.tensor(Y_test[samp]).long()).mean()\n",
    "loss.retain_grad()\n",
    "loss.backward()\n",
    "imshow(model.l1.weight.grad)\n",
    "figure()\n",
    "imshow(model.l2.weight.grad)"
   ]
  },
  {
   "cell_type": "code",
   "execution_count": 8,
   "metadata": {},
   "outputs": [
    {
     "name": "stdout",
     "output_type": "stream",
     "text": [
      "(784, 128)\n",
      "(128, 10)\n",
      "(10000, 784)\n",
      "(10000, 128)\n",
      "(10000, 128)\n",
      "(10000, 10)\n"
     ]
    },
    {
     "data": {
      "text/plain": [
       "0.9266"
      ]
     },
     "execution_count": 8,
     "metadata": {},
     "output_type": "execute_result"
    }
   ],
   "source": [
    "# copy weights from pytorch\n",
    "l1 = model.l1.weight.detach().numpy().T\n",
    "l2 = model.l2.weight.detach().numpy().T\n",
    "\n",
    "print(l1.shape)\n",
    "print(l2.shape)\n",
    "# numpy forward pass\n",
    "def forward(x):\n",
    "  print(x.shape)\n",
    "  x = x.dot(l1)\n",
    "  print(x.shape)\n",
    "  x = np.maximum(x, 0)\n",
    "  print(x.shape)\n",
    "  x = x.dot(l2)  \n",
    "  print(x.shape)\n",
    "  return x\n",
    "\n",
    "def numpy_eval():\n",
    "  Y_test_preds_out = forward(X_test.reshape((-1, 28*28)))\n",
    "  Y_test_preds = np.argmax(Y_test_preds_out, axis=1)\n",
    "  return (Y_test == Y_test_preds).mean()"
   ]
  },
  {
   "cell_type": "code",
   "execution_count": 10,
   "metadata": {},
   "outputs": [
    {
     "name": "stdout",
     "output_type": "stream",
     "text": [
      "[2 2 9]\n"
     ]
    }
   ],
   "source": [
    "# numpy forward and backward pass\n",
    "# solve under- or overflow when exponentiating large values\n",
    "def logsumexp(x):\n",
    "  #return np.log(np.exp(x).sum(axis=1))\n",
    "  # http://gregorygundersen.com/blog/2020/02/09/log-sum-exp/\n",
    "  c = x.max(axis=1)\n",
    "  return c + np.log(np.exp(x-c.reshape((-1, 1))).sum(axis=1))\n",
    "\n",
    "#>>> x = np.array([-1000, -1000, -1000])\n",
    "#>>> np.exp(x)\n",
    "#array([0., 0., 0.])\n",
    "#>>> np.exp(x - logsumexp(x))\n",
    "#array([0.33333333, 0.33333333, 0.33333333])numpy_eval()\n",
    "\n",
    "samp = [0,1,2,3]\n",
    "x, y = X_test[samp].reshape((-1, 28*28)), Y_test[samp]\n",
    "out  = np.zeros((len(y),10), np.float32)\n",
    "\n",
    "'''\n",
    "print(out)\n",
    "print(out.shape)\n",
    "out[range(out.shape[0]),y] = 1\n",
    "print(out.shape[0])\n",
    "print(range(out.shape[0]))\n",
    "print(y)\n",
    "print(out)\n",
    "'''\n",
    "\n",
    "t1 = np.array([1,2,3])\n",
    "t2 = np.array([2,1,3])\n",
    "\n",
    "print(t1 * t2)\n",
    "\n",
    "\n",
    "samp = [0,1,2,3]\n",
    "x, y = X_test[samp].reshape((-1, 28*28)), Y_test[samp]\n",
    "out  = np.zeros((len(y),10), np.float32)\n",
    "\n",
    "'''\n",
    "# forward pass\n",
    "print(x.shape) #x(4, 784)\n",
    "print(l1.shape)#l1(784, 128)\n",
    "x_l1 = x.dot(l1)\n",
    "print(x_l1.shape)#x_l1(4, 128)\n",
    "x_relu = np.maximum(x_l1, 0)\n",
    "print(x_relu.shape)#x_relu(4, 128)\n",
    "x_l2 = x_relu.dot(l2)\n",
    "print(l2.shape)#x_l2(128, 10)\n",
    "print(x_l2.shape)#x_l2(4, 10)\n",
    "x_lsm = x_l2 - logsumexp(x_l2).reshape((-1, 1))\n",
    "\n",
    "print(logsumexp(x_l2))\n",
    "print(logsumexp(x_l2).shape)#x_l2(4, 10)\n",
    "print(logsumexp(x_l2).reshape((-1, 1)))\n",
    "print(logsumexp(x_l2).reshape((-1, 1)).shape)\n",
    "#[23.721836 19.296984 14.008053 18.097654]\n",
    "#(4,)\n",
    "#[[23.721836]\n",
    "# [19.296984]\n",
    "# [14.008053]\n",
    "# [18.097654]]\n",
    "#(4, 1)\n",
    "\n",
    "print(x_lsm.shape)#x_lsm(4, 10)\n",
    "print(out.shape)#out(4, 10)\n",
    "x_loss = (-out * x_lsm).mean(axis=1)\n",
    "print(x_loss.shape)#x_loss(4,)\n",
    "print(x_loss)\n",
    "\n",
    "class BobNet(torch.nn.Module):\n",
    "  def __init__(self):\n",
    "    super(BobNet, self).__init__()\n",
    "    self.l1 = nn.Linear(784, 128, bias=False)\n",
    "    self.l2 = nn.Linear(128, 10, bias=False)\n",
    "    self.sm = nn.LogSoftmax(dim=1) # log(softmax(x))   log(Softmax(x)) \n",
    "  def forward(self, x):\n",
    "    x = F.relu(self.l1(x))\n",
    "    x = self.l2(x)\n",
    "    x = self.sm(x)\n",
    "    return x\n",
    "\n",
    "softmax = e^{…} / [sum_k e^{…, class_k, …}]\n",
    "\n",
    "\n",
    "\n",
    "logsoftmax = log(e^{…}) - log [sum_k e^{…, class_k, …}]\n",
    "logsoftmax = logits - log(reduce_sum(exp(logits), axis))\n",
    "\n",
    "log(reduce_sum(exp(logits), axis)) = return np.log(np.exp(x).sum(axis=1))\n",
    "\n",
    "logits\tA non-empty Tensor. Must be one of the following types: half, float32, float64.\n",
    "\n",
    "'''\n",
    "\n",
    "# forward pass\n",
    "x_l1 = x.dot(l1)\n",
    "x_relu = np.maximum(x_l1, 0)\n",
    "x_l2 = x_relu.dot(l2)\n",
    "x_lsm = x_l2 - logsumexp(x_l2).reshape((-1, 1)) \n",
    "x_loss = (-out * x_lsm).mean(axis=1)\n",
    "\n",
    "d_out = -out / len(y)\n",
    "'''\n",
    "print(\"--------------\")\n",
    "print(out)\n",
    "print(y)\n",
    "print(len(y))\n",
    "print(d_out)\n",
    "test = [[-0., -0., -0., -0., -0., -0., -0., -0., -0., -0.],\n",
    " [-0., -0., -0., -0., -0., -0., -0., -0., -0., -0.],\n",
    " [-0., -0., -0., -0., -0., -0., -0., -0., -0., -0.],\n",
    " [-0., -0., -0., -0., -0., -0., -0., -0., -0., -0.]]\n",
    "\n",
    "print(d_out.sum(axis=0))\n",
    "print(d_out.sum(axis=1))\n",
    "'''\n",
    "\n",
    "\n",
    "# derivative of logsoftmax\n",
    "# https://github.com/torch/nn/blob/master/lib/THNN/generic/LogSoftMax.c\n",
    "'''\n",
    "  for (t = 0; t < stride*nframe; t++)\n",
    "  {\n",
    "    sum = 0;\n",
    "    gradInput_data = gradInput_data0 + (t/stride)*dim*stride + t % stride;      # gradInput_data  => dx_lsm\n",
    "    output_data = output_data0 + (t/stride)*dim*stride + t % stride;            # output_data     => x_lsm\n",
    "    gradOutput_data = gradOutput_data0 + (t/stride)*dim*stride + t % stride;    # gradOutput_data => d_out\n",
    "\n",
    "    for (d = 0; d < dim; d++)\n",
    "      sum += gradOutput_data[d*stride];\n",
    "\n",
    "    for (d = 0; d < dim; d++)\n",
    "      gradInput_data[d*stride] = gradOutput_data[d*stride] - exp(output_data[d*stride])*sum;\n",
    "  }\n",
    "'''\n",
    "\n",
    "dx_lsm = d_out - np.exp(x_lsm)*d_out.sum(axis=1).reshape((-1, 1))\n",
    "\n",
    "'''\n",
    "print(np.exp(x_lsm))\n",
    "print(d_out)\n",
    "print(d_out.sum(axis=1))\n",
    "print(d_out.sum(axis=1).reshape((-1, 1)))\n",
    "print(dx_lsm)\n",
    "print(np.exp(x_lsm).shape)\n",
    "print(d_out.sum(axis=1).reshape((-1, 1)).shape)\n",
    "[[0.         0.         0.         0.00000005 0.         0.\n",
    "  0.         1.         0.00000007 0.        ]\n",
    " [0.00000001 0.00000002 0.99999046 0.00000043 0.         0.\n",
    "  0.00000209 0.         0.0000063  0.        ]\n",
    " [0.00000329 0.9988991  0.00004224 0.00000164 0.00000012 0.00000004\n",
    "  0.00000001 0.0010426  0.00001001 0.00000063]\n",
    " [0.9998188  0.         0.00000834 0.00000029 0.00000004 0.00005408\n",
    "  0.00000239 0.00003093 0.00000052 0.0000853 ]]\n",
    "[[-0. -0. -0. -0. -0. -0. -0. -0. -0. -0.]\n",
    " [-0. -0. -0. -0. -0. -0. -0. -0. -0. -0.]\n",
    " [-0. -0. -0. -0. -0. -0. -0. -0. -0. -0.]\n",
    " [-0. -0. -0. -0. -0. -0. -0. -0. -0. -0.]]\n",
    "[0. 0. 0. 0.]\n",
    "[[0.]\n",
    " [0.]\n",
    " [0.]\n",
    " [0.]]\n",
    "[[-0. -0. -0. -0. -0. -0. -0. -0. -0. -0.]\n",
    " [-0. -0. -0. -0. -0. -0. -0. -0. -0. -0.]\n",
    " [-0. -0. -0. -0. -0. -0. -0. -0. -0. -0.]\n",
    " [-0. -0. -0. -0. -0. -0. -0. -0. -0. -0.]]\n",
    "(4, 10)\n",
    "(4, 1)\n",
    "'''\n",
    "\n",
    "# derivative of l2\n",
    "d_l2 = x_relu.T.dot(dx_lsm) # (128, 4) * (4, 10) = (10, 128)\n",
    "dx_relu = dx_lsm.dot(l2.T)  # (4, 10)  * (10,128)= (4, 128)\n",
    "\n",
    "print(dx_lsm)\n",
    "print(dx_lsm.shape)\n",
    "print(x_relu.T)\n",
    "print(x_relu.T.shape)\n",
    "print(d_l2.T)\n",
    "print(d_l2.T.shape)\n",
    "print(dx_relu)\n",
    "print(dx_relu.shape)\n",
    "\n",
    "# derivative of relu\n",
    "dx_l1 = (x_relu > 0).astype(np.float32) * dx_relu\n",
    "\n",
    "# derivative of l1\n",
    "d_l1 = x.T.dot(dx_l1)"
   ]
  },
  {
   "cell_type": "code",
   "execution_count": 12,
   "metadata": {},
   "outputs": [
    {
     "data": {
      "text/plain": [
       "<matplotlib.image.AxesImage at 0x111434f98>"
      ]
     },
     "execution_count": 12,
     "metadata": {},
     "output_type": "execute_result"
    },
    {
     "data": {
      "image/png": "[encoded data removed]",
      "text/plain": [
       "<Figure size 432x288 with 1 Axes>"
      ]
     },
     "metadata": {},
     "output_type": "display_data"
    },
    {
     "data": {
      "image/png": "[encoded data removed]",
      "text/plain": [
       "<Figure size 432x288 with 1 Axes>"
      ]
     },
     "metadata": {},
     "output_type": "display_data"
    }
   ],
   "source": [
    "# numpy forward and backward pass\n",
    "\n",
    "def logsumexp(x):\n",
    "  #return np.log(np.exp(x).sum(axis=1))\n",
    "  # http://gregorygundersen.com/blog/2020/02/09/log-sum-exp/\n",
    "  c = x.max(axis=1)\n",
    "  return c + np.log(np.exp(x-c.reshape((-1, 1))).sum(axis=1))\n",
    "\n",
    "def forward_backward(x, y):\n",
    "  # training\n",
    "  out = np.zeros((len(y),10), np.float32)\n",
    "  out[range(out.shape[0]),y] = 1\n",
    "\n",
    "  # forward pass\n",
    "  x_l1 = x.dot(l1)\n",
    "  x_relu = np.maximum(x_l1, 0)\n",
    "  x_l2 = x_relu.dot(l2)\n",
    "  x_lsm = x_l2 - logsumexp(x_l2).reshape((-1, 1))\n",
    "  x_loss = (-out * x_lsm).mean(axis=1)\n",
    "\n",
    "  # training in numpy (super hard!)\n",
    "  # backward pass\n",
    "\n",
    "  # will involve x_lsm, x_l2, out, d_out and produce dx_sm\n",
    "  d_out = -out / len(y)\n",
    "\n",
    "  # derivative of logsoftmax\n",
    "  # https://github.com/torch/nn/blob/master/lib/THNN/generic/LogSoftMax.c\n",
    "  dx_lsm = d_out - np.exp(x_lsm)*d_out.sum(axis=1).reshape((-1, 1))\n",
    "\n",
    "  # derivative of l2\n",
    "  d_l2 = x_relu.T.dot(dx_lsm)\n",
    "  dx_relu = dx_lsm.dot(l2.T)\n",
    "\n",
    "  # derivative of relu\n",
    "  dx_l1 = (x_relu > 0).astype(np.float32) * dx_relu\n",
    "\n",
    "  # derivative of l1\n",
    "  d_l1 = x.T.dot(dx_l1)\n",
    "  \n",
    "  return x_loss, x_l2, d_l1, d_l2\n",
    "\n",
    "samp = [0,1,2,3]\n",
    "x_loss, x_l2, d_l1, d_l2 = forward_backward(X_test[samp].reshape((-1, 28*28)), Y_test[samp])\n",
    "\n",
    "imshow(d_l1.T)\n",
    "figure()\n",
    "imshow(d_l2.T)"
   ]
  },
  {
   "cell_type": "code",
   "execution_count": 14,
   "metadata": {},
   "outputs": [
    {
     "name": "stderr",
     "output_type": "stream",
     "text": [
      "loss 0.01 accuracy 0.98: 100%|██████████| 1000/1000 [00:01<00:00, 664.84it/s]\n"
     ]
    },
    {
     "data": {
      "text/plain": [
       "[<matplotlib.lines.Line2D at 0x112e75240>]"
      ]
     },
     "execution_count": 14,
     "metadata": {},
     "output_type": "execute_result"
    },
    {
     "data": {
      "image/png": "[encoded data removed]",
      "text/plain": [
       "<Figure size 432x288 with 1 Axes>"
      ]
     },
     "metadata": {},
     "output_type": "display_data"
    }
   ],
   "source": [
    "# numpy training\n",
    "def layer_init(m, h):\n",
    "  # gaussian is strong\n",
    "  #ret = np.random.randn(m,h)/np.sqrt(m*h)\n",
    "  # uniform is stronger\n",
    "  ret = np.random.uniform(-1., 1., size=(m,h))/np.sqrt(m*h)\n",
    "  return ret.astype(np.float32)\n",
    "\n",
    "# reinit\n",
    "np.random.seed(1337)\n",
    "l1 = layer_init(784, 128)\n",
    "l2 = layer_init(128, 10)\n",
    "\n",
    "lr = 0.001\n",
    "BS = 128\n",
    "losses, accuracies = [], []\n",
    "t = trange(1000)\n",
    "for i in (t):\n",
    "  samp = np.random.randint(0, X_train.shape[0], size=(BS))\n",
    "  X = X_train[samp].reshape((-1, 28*28))\n",
    "  Y = Y_train[samp]\n",
    "  x_loss, x_l2, d_l1, d_l2 = forward_backward(X, Y)\n",
    "  \n",
    "  cat = np.argmax(x_l2, axis=1)\n",
    "  accuracy = (cat == Y).mean()\n",
    "  \n",
    "  # SGD\n",
    "  l1 = l1 - lr*d_l1\n",
    "  l2 = l2 - lr*d_l2\n",
    "  \n",
    "  loss = x_loss.mean()\n",
    "  losses.append(loss)\n",
    "  accuracies.append(accuracy)\n",
    "  t.set_description(\"loss %.2f accuracy %.2f\" % (loss, accuracy))\n",
    "  \n",
    "plt.ylim(-0.1, 1.1)\n",
    "plot(losses)\n",
    "plot(accuracies)"
   ]
  },
  {
   "cell_type": "code",
   "execution_count": 15,
   "metadata": {},
   "outputs": [
    {
     "name": "stdout",
     "output_type": "stream",
     "text": [
      "(10000, 784)\n",
      "(10000, 128)\n",
      "(10000, 128)\n",
      "(10000, 10)\n"
     ]
    },
    {
     "data": {
      "text/plain": [
       "0.9639"
      ]
     },
     "execution_count": 15,
     "metadata": {},
     "output_type": "execute_result"
    }
   ],
   "source": [
    "# evaluate on test set\n",
    "# over 96% with numpy, wow numpy is better than pytorch!\n",
    "# note: add 0.01% more accuracy with float16\n",
    "numpy_eval()"
   ]
  },
  {
   "cell_type": "code",
   "execution_count": 20,
   "metadata": {},
   "outputs": [
    {
     "data": {
      "text/plain": [
       "<matplotlib.image.AxesImage at 0x115860278>"
      ]
     },
     "execution_count": 20,
     "metadata": {},
     "output_type": "execute_result"
    },
    {
     "data": {
      "image/png": "[encoded data removed]",
      "text/plain": [
       "<Figure size 432x288 with 1 Axes>"
      ]
     },
     "metadata": {},
     "output_type": "display_data"
    }
   ],
   "source": [
    "# for fun, can it recognize 4?\n",
    "m = [[0,0,0,0,0,0,0],\n",
    "     [0,0,1,1,1,0,0],\n",
    "     [0,0,1,0,1,0,0],\n",
    "     [0,0,1,1,1,0,0],\n",
    "     [0,0,0,0,1,0,0],\n",
    "     [0,0,0,0,1,0,0],\n",
    "     [0,0,0,0,0,0,0]]\n",
    "# upscale to 28x28\n",
    "m = np.concatenate([np.concatenate([[x]*4 for x in y]*4) for y in m])\n",
    "imshow(m.reshape(28,28))"
   ]
  },
  {
   "cell_type": "code",
   "execution_count": 21,
   "metadata": {},
   "outputs": [
    {
     "data": {
      "text/plain": [
       "9"
      ]
     },
     "execution_count": 21,
     "metadata": {},
     "output_type": "execute_result"
    }
   ],
   "source": [
    "# what is it?\n",
    "x = m.reshape(1, -1).dot(l1)\n",
    "x = np.maximum(x, 0)\n",
    "x = x.dot(l2)\n",
    "np.argmax(x)"
   ]
  },
  {
   "cell_type": "code",
   "execution_count": null,
   "metadata": {},
   "outputs": [],
   "source": []
  }
 ],
 "metadata": {
  "kernelspec": {
   "display_name": "Python 3",
   "language": "python",
   "name": "python3"
  },
  "language_info": {
   "codemirror_mode": {
    "name": "ipython",
    "version": 3
   },
   "file_extension": ".py",
   "mimetype": "text/x-python",
   "name": "python",
   "nbconvert_exporter": "python",
   "pygments_lexer": "ipython3",
   "version": "3.6.2"
  }
 },
 "nbformat": 4,
 "nbformat_minor": 2
}
