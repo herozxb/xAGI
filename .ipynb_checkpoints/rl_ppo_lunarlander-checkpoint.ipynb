{
 "cells": [
  {
   "cell_type": "code",
   "execution_count": 1,
   "metadata": {},
   "outputs": [],
   "source": [
    "# PPO, https://spinningup.openai.com/en/latest/algorithms/ppo.html\n",
    "# Pretty stable, but could be better"
   ]
  },
  {
   "cell_type": "code",
   "execution_count": 2,
   "metadata": {},
   "outputs": [
    {
     "name": "stdout",
     "output_type": "stream",
     "text": [
      "Populating the interactive namespace from numpy and matplotlib\n"
     ]
    }
   ],
   "source": [
    "%pylab inline\n",
    "import random\n",
    "import time\n",
    "import numpy as np\n",
    "\n",
    "import tensorflow as tf\n",
    "import tensorflow.keras.backend as K\n",
    "from tensorflow.keras.models import Model, clone_model\n",
    "from tensorflow.keras.optimizers import Adam, SGD\n",
    "from tensorflow.keras.layers import Input, Dense, Activation, Lambda\n",
    "\n",
    "import gym"
   ]
  },
  {
   "cell_type": "code",
   "execution_count": 6,
   "metadata": {},
   "outputs": [
    {
     "data": {
      "text/plain": [
       "(Box(8,), (8,), Discrete(4), gym.spaces.discrete.Discrete)"
      ]
     },
     "execution_count": 6,
     "metadata": {},
     "output_type": "execute_result"
    }
   ],
   "source": [
    "#env = gym.make(\"CartPole-v1\")\n",
    "env = gym.make(\"LunarLander-v2\")\n",
    "#env = gym.make(\"Pong-v0\")\n",
    "env.observation_space, env.observation_space.shape, env.action_space, type(env.action_space)"
   ]
  },
  {
   "cell_type": "code",
   "execution_count": 4,
   "metadata": {},
   "outputs": [
    {
     "name": "stdout",
     "output_type": "stream",
     "text": [
      "WARNING:tensorflow:From /Library/Frameworks/Python.framework/Versions/3.6/lib/python3.6/site-packages/tensorflow/python/ops/resource_variable_ops.py:435: colocate_with (from tensorflow.python.framework.ops) is deprecated and will be removed in a future version.\n",
      "Instructions for updating:\n",
      "Colocations handled automatically by placer.\n",
      "_________________________________________________________________\n",
      "Layer (type)                 Output Shape              Param #   \n",
      "=================================================================\n",
      "input_1 (InputLayer)         (None, 8)                 0         \n",
      "_________________________________________________________________\n",
      "dense (Dense)                (None, 32)                288       \n",
      "_________________________________________________________________\n",
      "dense_1 (Dense)              (None, 32)                1056      \n",
      "_________________________________________________________________\n",
      "dense_2 (Dense)              (None, 32)                1056      \n",
      "_________________________________________________________________\n",
      "dense_3 (Dense)              (None, 4)                 132       \n",
      "_________________________________________________________________\n",
      "lambda (Lambda)              (None, 4)                 0         \n",
      "=================================================================\n",
      "Total params: 2,532\n",
      "Trainable params: 2,532\n",
      "Non-trainable params: 0\n",
      "_________________________________________________________________\n",
      "WARNING:tensorflow:From /Library/Frameworks/Python.framework/Versions/3.6/lib/python3.6/site-packages/tensorflow/python/keras/utils/losses_utils.py:170: to_float (from tensorflow.python.ops.math_ops) is deprecated and will be removed in a future version.\n",
      "Instructions for updating:\n",
      "Use tf.cast instead.\n",
      "_________________________________________________________________\n",
      "Layer (type)                 Output Shape              Param #   \n",
      "=================================================================\n",
      "input_4 (InputLayer)         (None, 8)                 0         \n",
      "_________________________________________________________________\n",
      "dense_4 (Dense)              (None, 32)                288       \n",
      "_________________________________________________________________\n",
      "dense_5 (Dense)              (None, 32)                1056      \n",
      "_________________________________________________________________\n",
      "dense_6 (Dense)              (None, 32)                1056      \n",
      "_________________________________________________________________\n",
      "dense_7 (Dense)              (None, 1)                 33        \n",
      "=================================================================\n",
      "Total params: 2,433\n",
      "Trainable params: 2,433\n",
      "Non-trainable params: 0\n",
      "_________________________________________________________________\n"
     ]
    }
   ],
   "source": [
    "# policy function\n",
    "x =in_state = Input(env.observation_space.shape)\n",
    "#state_in_tuple = (210*160*3,)\n",
    "#x = in_state = Input(state_in_tuple)\n",
    "x = Dense(32, activation='elu')(x)\n",
    "x = Dense(32, activation='elu')(x)\n",
    "x = Dense(32, activation='elu')(x)\n",
    "x = Dense(env.action_space.n)(x)\n",
    "action_dist = Lambda(lambda x: tf.nn.log_softmax(x, axis=-1))(x)\n",
    "p = Model(in_state, action_dist)\n",
    "pf = K.function(p.layers[0].input,\n",
    "                [p.layers[-1].output,\n",
    "                 tf.random.categorical(p.layers[-1].output, 1)[0]])\n",
    "\n",
    "in_advantage = Input((1,))\n",
    "in_old_prediction = Input((env.action_space.n,))\n",
    "def loss(y_true, y_pred): \n",
    "  advantage = tf.reshape(in_advantage, (-1,))\n",
    "  \n",
    "  # y_pred is the log probs of the actions\n",
    "  # y_true is the action mask\n",
    "  prob = tf.reduce_sum(y_true * y_pred, axis=-1)\n",
    "  old_prob = tf.reduce_sum(y_true * in_old_prediction, axis=-1)\n",
    "  ratio = tf.exp(prob - old_prob)  # hehe, they are log probs, so we subtract\n",
    "  \n",
    "  # this is the VPG objective\n",
    "  #ll = -(prob * advantage)\n",
    "  \n",
    "  # this is PPO objective\n",
    "  ll = -K.minimum(ratio*advantage, K.clip(ratio, 0.8, 1.2)*advantage)\n",
    "  return ll\n",
    "\n",
    "popt = Model([in_state, in_advantage, in_old_prediction], action_dist)\n",
    "popt.compile(Adam(5e-4), loss)\n",
    "popt.summary()\n",
    "\n",
    "# value function\n",
    "x = in1 = Input(env.observation_space.shape)\n",
    "x = Dense(32, activation='elu')(x)\n",
    "x = Dense(32, activation='elu')(x)\n",
    "x = Dense(32, activation='elu')(x)\n",
    "x = Dense(1)(x)\n",
    "v = Model(in1, x)\n",
    "v.compile(Adam(1e-3), 'mse')\n",
    "v.summary()\n",
    "\n",
    "vf = K.function(v.layers[0].input, v.layers[-1].output)\n",
    "\n",
    "gamma = 0.99\n",
    "lll = []"
   ]
  },
  {
   "cell_type": "code",
   "execution_count": 5,
   "metadata": {},
   "outputs": [
    {
     "name": "stdout",
     "output_type": "stream",
     "text": [
      "1.13.0-rc0\n"
     ]
    }
   ],
   "source": [
    "import tensorflow as tf\n",
    "print(tf.__version__)"
   ]
  },
  {
   "cell_type": "code",
   "execution_count": 6,
   "metadata": {},
   "outputs": [
    {
     "name": "stdout",
     "output_type": "stream",
     "text": [
      "WARNING:tensorflow:From /Library/Frameworks/Python.framework/Versions/3.6/lib/python3.6/site-packages/tensorflow/python/ops/math_ops.py:3066: to_int32 (from tensorflow.python.ops.math_ops) is deprecated and will be removed in a future version.\n",
      "Instructions for updating:\n",
      "Use tf.cast instead.\n",
      "  0  ep_rew:  -218.61  loss: 110.50   vloss: 12351.43  counts:  8246/ 85 tm: 5.09 s\n",
      "  1  ep_rew:  -145.98  loss:  51.13   vloss:  1443.67  counts:  8274/ 95 tm: 3.82 s\n",
      "  2  ep_rew:  -152.93  loss:   0.67   vloss:  1854.50  counts:  8235/ 82 tm: 3.92 s\n",
      "  3  ep_rew:  -149.19  loss:   0.63   vloss:  2194.26  counts:  8200/ 87 tm: 3.89 s\n",
      "  4  ep_rew:  -133.76  loss:  -7.13   vloss:  1473.78  counts:  8300/ 83 tm: 3.93 s\n",
      "  5  ep_rew:  -124.67  loss:  -5.64   vloss:  1673.88  counts:  8230/ 83 tm: 4.53 s\n",
      "  6  ep_rew:  -127.01  loss:   4.20   vloss:  2232.44  counts:  8330/ 83 tm: 3.95 s\n",
      "  7  ep_rew:  -106.11  loss: -13.58   vloss:  1406.24  counts:  8242/ 78 tm: 4.37 s\n",
      "  8  ep_rew:  -110.92  loss:   2.86   vloss:  1388.90  counts:  8201/ 74 tm: 4.66 s\n",
      "  9  ep_rew:  -106.42  loss:   0.45   vloss:  1717.19  counts:  8202/ 82 tm: 3.93 s\n",
      " 10  ep_rew:  -103.48  loss:  -1.69   vloss:  1495.35  counts:  8192/ 79 tm: 3.96 s\n",
      " 11  ep_rew:   -90.48  loss:  -6.31   vloss:  1408.63  counts:  8263/ 82 tm: 3.95 s\n",
      " 12  ep_rew:   -78.25  loss:  -6.61   vloss:   826.36  counts:  8266/ 86 tm: 3.90 s\n",
      " 13  ep_rew:   -71.48  loss: -12.40   vloss:   838.44  counts:  8205/ 67 tm: 4.97 s\n",
      " 14  ep_rew:   -54.34  loss:  -5.04   vloss:   768.81  counts:  8229/ 64 tm: 5.04 s\n",
      " 15  ep_rew:   -63.69  loss:   1.00   vloss:  1488.33  counts:  8314/ 69 tm: 4.30 s\n",
      " 16  ep_rew:   -56.88  loss:   2.77   vloss:  1054.59  counts:  8227/ 69 tm: 4.09 s\n",
      " 17  ep_rew:   -44.32  loss:  -4.54   vloss:   760.85  counts:  8312/ 64 tm: 4.22 s\n",
      " 18  ep_rew:   -32.78  loss: -27.00   vloss:  1128.33  counts:  8222/ 41 tm: 6.47 s\n",
      " 19  ep_rew:    -9.18  loss:  -3.24   vloss:   806.08  counts:  8268/ 53 tm: 4.97 s\n",
      " 20  ep_rew:     1.67  loss: -11.34   vloss:   976.67  counts:  8261/ 34 tm: 6.98 s\n",
      " 21  ep_rew:     2.30  loss:  -1.21   vloss:   839.11  counts:  8468/ 24 tm: 7.90 s\n",
      " 22  ep_rew:     5.70  loss:  -1.63   vloss:   713.46  counts:  8628/ 30 tm: 8.40 s\n",
      " 23  ep_rew:   -12.03  loss:   2.62   vloss:   632.78  counts:  8863/ 25 tm: 9.95 s\n",
      " 24  ep_rew:    17.69  loss:  -7.71   vloss:   816.85  counts:  8344/ 24 tm: 7.67 s\n",
      " 25  ep_rew:    50.20  loss:  -1.28   vloss:   802.06  counts:  9077/ 20 tm: 9.01 s\n",
      " 26  ep_rew:    44.40  loss:   3.56   vloss:   764.20  counts:  9086/ 15 tm: 10.50 s\n",
      " 27  ep_rew:   -23.51  loss:   8.01   vloss:   963.06  counts:  8701/ 17 tm: 10.11 s\n",
      " 28  ep_rew:    18.87  loss:  -5.00   vloss:   659.89  counts:  8756/ 16 tm: 9.09 s\n",
      " 29  ep_rew:    65.33  loss:  -2.33   vloss:   827.98  counts:  8591/ 15 tm: 8.66 s\n",
      " 30  ep_rew:    88.12  loss:  -5.92   vloss:   740.28  counts:  8258/ 16 tm: 8.11 s\n",
      " 31  ep_rew:   120.29  loss: -11.22   vloss:  1117.84  counts:  8299/ 19 tm: 7.55 s\n",
      " 32  ep_rew:   108.99  loss:  -2.72   vloss:  1243.50  counts:  8195/ 28 tm: 6.03 s\n",
      " 33  ep_rew:   194.31  loss: -14.77   vloss:   930.15  counts:  8472/ 23 tm: 7.45 s\n",
      " 34  ep_rew:   190.91  loss:  -0.67   vloss:  1291.55  counts:  8403/ 24 tm: 6.92 s\n",
      " 35  ep_rew:   169.85  loss:   1.22   vloss:   952.58  counts:  8273/ 26 tm: 6.42 s\n",
      " 36  ep_rew:   177.75  loss:  -2.65   vloss:  1256.57  counts:  8406/ 28 tm: 6.23 s\n",
      " 37  ep_rew:   199.97  loss:  -1.01   vloss:   965.07  counts:  8563/ 25 tm: 6.77 s\n",
      " 38  ep_rew:   185.12  loss:   1.88   vloss:  1143.67  counts:  8574/ 26 tm: 6.95 s\n",
      " 39  ep_rew:   165.36  loss:   8.29   vloss:  1222.43  counts:  8433/ 24 tm: 7.35 s\n",
      " 40  ep_rew:   209.70  loss:  -7.76   vloss:   959.42  counts:  8319/ 25 tm: 6.87 s\n",
      " 41  ep_rew:   212.44  loss:  -2.63   vloss:   773.75  counts:  8251/ 26 tm: 6.54 s\n",
      " 42  ep_rew:   233.19  loss:  -5.15   vloss:   799.57  counts:  8399/ 27 tm: 6.74 s\n",
      " 43  ep_rew:   258.15  loss:  -8.19   vloss:   266.05  counts:  8314/ 28 tm: 6.20 s\n",
      " 44  ep_rew:   243.41  loss:   8.40   vloss:   714.50  counts:  8310/ 26 tm: 6.25 s\n",
      " 45  ep_rew:   231.72  loss:  -0.71   vloss:   730.53  counts:  8418/ 29 tm: 6.12 s\n",
      " 46  ep_rew:   233.54  loss:  10.40   vloss:   893.90  counts:  8278/ 24 tm: 6.45 s\n",
      " 47  ep_rew:   220.03  loss:  -2.03   vloss:   779.88  counts:  8459/ 30 tm: 6.09 s\n",
      " 48  ep_rew:   227.38  loss:   4.64   vloss:   947.08  counts:  8401/ 27 tm: 6.50 s\n",
      " 49  ep_rew:   233.24  loss:  -6.29   vloss:   856.58  counts:  8415/ 25 tm: 6.38 s\n",
      " 50  ep_rew:   241.02  loss:  -5.44   vloss:   675.49  counts:  8229/ 28 tm: 6.19 s\n",
      " 51  ep_rew:   226.93  loss:   1.54   vloss:   745.64  counts:  8236/ 29 tm: 6.53 s\n",
      " 52  ep_rew:   247.74  loss:  -4.37   vloss:   551.74  counts:  8392/ 30 tm: 6.48 s\n",
      " 53  ep_rew:   242.14  loss:   4.31   vloss:   656.15  counts:  8343/ 28 tm: 6.55 s\n",
      " 54  ep_rew:   205.89  loss:   7.31   vloss:  1073.54  counts:  8258/ 29 tm: 6.23 s\n",
      " 55  ep_rew:   259.81  loss:  -7.48   vloss:   511.39  counts:  8230/ 28 tm: 6.42 s\n",
      " 56  ep_rew:   258.03  loss:  -1.50   vloss:   368.42  counts:  8286/ 29 tm: 6.60 s\n",
      " 57  ep_rew:   239.88  loss:   4.15   vloss:   812.10  counts:  8423/ 32 tm: 6.07 s\n",
      " 58  ep_rew:   232.94  loss:  14.02   vloss:   554.50  counts:  8253/ 25 tm: 7.13 s\n",
      " 59  ep_rew:   252.44  loss:  -4.26   vloss:   419.21  counts:  8319/ 26 tm: 6.73 s\n",
      " 60  ep_rew:   263.24  loss:  -2.54   vloss:   460.74  counts:  8417/ 26 tm: 6.75 s\n",
      " 61  ep_rew:   255.11  loss:  -6.35   vloss:   441.78  counts:  8402/ 33 tm: 5.81 s\n",
      " 62  ep_rew:   226.39  loss:   6.56   vloss:   932.12  counts:  8335/ 35 tm: 5.45 s\n",
      " 63  ep_rew:   241.18  loss:  -6.25   vloss:   513.69  counts:  8419/ 35 tm: 5.76 s\n",
      " 64  ep_rew:   235.98  loss:   3.21   vloss:   538.41  counts:  8318/ 35 tm: 5.48 s\n",
      " 65  ep_rew:   270.07  loss:  -6.22   vloss:   216.49  counts:  8250/ 34 tm: 5.36 s\n",
      " 66  ep_rew:   249.34  loss:   6.14   vloss:   667.28  counts:  8402/ 35 tm: 5.38 s\n",
      " 67  ep_rew:   249.66  loss:   9.75   vloss:   705.18  counts:  8458/ 25 tm: 5.76 s\n",
      " 68  ep_rew:   220.44  loss:  10.61   vloss:   856.43  counts:  8222/ 29 tm: 6.33 s\n",
      " 69  ep_rew:   248.68  loss:  -4.51   vloss:   631.40  counts:  8422/ 35 tm: 5.43 s\n",
      " 70  ep_rew:   243.60  loss:   7.80   vloss:   775.71  counts:  8533/ 27 tm: 6.92 s\n",
      " 71  ep_rew:   259.20  loss:  -0.82   vloss:   432.32  counts:  8335/ 32 tm: 5.82 s\n",
      " 72  ep_rew:   270.22  loss:  -4.88   vloss:   336.54  counts:  8352/ 34 tm: 5.39 s\n",
      " 73  ep_rew:   259.09  loss:   2.58   vloss:   532.48  counts:  8197/ 34 tm: 5.36 s\n",
      " 74  ep_rew:   277.84  loss:  -2.32   vloss:   149.52  counts:  8368/ 33 tm: 5.46 s\n",
      " 75  ep_rew:   270.49  loss:  -1.69   vloss:   310.70  counts:  8409/ 33 tm: 5.64 s\n",
      " 76  ep_rew:   234.87  loss:   5.53   vloss:   776.93  counts:  8280/ 37 tm: 5.28 s\n",
      " 77  ep_rew:   253.83  loss:  -1.63   vloss:   721.14  counts:  8222/ 34 tm: 5.63 s\n",
      " 78  ep_rew:   261.41  loss:   1.07   vloss:   466.87  counts:  8314/ 34 tm: 5.53 s\n",
      " 79  ep_rew:   246.28  loss:   3.06   vloss:   782.82  counts:  8316/ 33 tm: 5.76 s\n",
      " 80  ep_rew:   250.98  loss:  -0.88   vloss:   668.64  counts:  8406/ 33 tm: 5.91 s\n",
      " 81  ep_rew:   266.86  loss:  -7.31   vloss:   193.32  counts:  8198/ 35 tm: 5.23 s\n",
      " 82  ep_rew:   280.17  loss:  -2.50   vloss:   130.38  counts:  8412/ 35 tm: 5.78 s\n",
      " 83  ep_rew:   255.40  loss:   5.47   vloss:   463.90  counts:  8246/ 34 tm: 5.51 s\n",
      " 84  ep_rew:   254.79  loss:   2.67   vloss:   512.11  counts:  8262/ 32 tm: 5.32 s\n",
      " 85  ep_rew:   269.28  loss:  -2.79   vloss:   299.23  counts:  8287/ 34 tm: 5.38 s\n",
      " 86  ep_rew:   263.62  loss:   5.71   vloss:   393.71  counts:  8218/ 30 tm: 5.94 s\n",
      " 87  ep_rew:   269.91  loss:  -2.36   vloss:   304.36  counts:  8391/ 36 tm: 5.32 s\n",
      " 88  ep_rew:   243.62  loss:   6.04   vloss:   724.74  counts:  8296/ 36 tm: 5.30 s\n",
      " 89  ep_rew:   276.44  loss:  -0.21   vloss:   235.59  counts:  8398/ 32 tm: 5.54 s\n",
      " 90  ep_rew:   273.32  loss:  -4.93   vloss:   177.29  counts:  8257/ 32 tm: 5.61 s\n",
      " 91  ep_rew:   265.87  loss:  -0.77   vloss:   305.44  counts:  8385/ 36 tm: 5.30 s\n",
      " 92  ep_rew:   272.43  loss:   2.17   vloss:   340.88  counts:  8280/ 34 tm: 5.46 s\n",
      " 93  ep_rew:   245.12  loss:   7.91   vloss:   644.63  counts:  8346/ 32 tm: 5.55 s\n",
      " 94  ep_rew:   265.98  loss:  -8.23   vloss:   428.89  counts:  8251/ 34 tm: 5.48 s\n"
     ]
    },
    {
     "name": "stdout",
     "output_type": "stream",
     "text": [
      " 95  ep_rew:   278.87  loss:  -0.72   vloss:   184.72  counts:  8199/ 33 tm: 5.40 s\n",
      " 96  ep_rew:   270.11  loss:   0.67   vloss:   134.42  counts:  8315/ 35 tm: 5.39 s\n",
      " 97  ep_rew:   270.61  loss:  -1.92   vloss:   364.48  counts:  8322/ 34 tm: 5.48 s\n",
      " 98  ep_rew:   265.49  loss:   2.51   vloss:   380.73  counts:  8300/ 36 tm: 5.29 s\n",
      " 99  ep_rew:   266.45  loss:   3.43   vloss:   384.65  counts:  8204/ 33 tm: 5.37 s\n"
     ]
    }
   ],
   "source": [
    "for epoch in range(100):\n",
    "  st = time.perf_counter()\n",
    "  \n",
    "  X,Y,V,P = [],[],[],[]\n",
    "  ll = []\n",
    "  while len(X) < 8192:\n",
    "    obs = env.reset()\n",
    "    #print(obs.shape)\n",
    "    #print(type(obs.reshape(1,-1)))\n",
    "    #print(obs.reshape(1,-1).shape)\n",
    "    #obs_ = obs.reshape(-1,1)\n",
    "    #print(obs.shape)\n",
    "    #print(obs_.shape)\n",
    "    #obs_1 = np.ravel(obs_)\n",
    "    #print(obs_1.shape)\n",
    "    \n",
    "    rews = []\n",
    "\n",
    "    while True:\n",
    "      # get the action\n",
    "      #pred, act = [x[0] for x in pf(obs_1[None])]\n",
    "      pred, act = [x[0] for x in pf(obs[None])]\n",
    "      P.append(pred)\n",
    "      \n",
    "      # save this state action pair\n",
    "      X.append(np.copy(obs))\n",
    "      act_mask = np.zeros((env.action_space.n))\n",
    "      act_mask[act] = 1.0\n",
    "      Y.append(act_mask)\n",
    "\n",
    "      # take the action and save the reward\n",
    "      obs, rew, done, _ = env.step(act)\n",
    "      rews.append(rew)\n",
    "\n",
    "      if done:\n",
    "        ll.append(np.sum(rews))\n",
    "        # computes rewards to go with gamma discounting\n",
    "        for i in range(len(rews)-2, -1, -1):\n",
    "          rews[i] += rews[i+1] * gamma\n",
    "        V.extend(rews)\n",
    "        break\n",
    "  X,Y,V,P = [np.array(x) for x in [X,Y,V,P]]\n",
    "\n",
    "  # subtract value baseline to get advantage\n",
    "  A = V - vf(X)[:, 0]\n",
    "  \n",
    "  loss = popt.fit([X,A,P],Y, batch_size=1024, epochs=10, shuffle=True, verbose=0)\n",
    "  loss = loss.history['loss'][-1]\n",
    "  vloss = v.fit(X, V, batch_size=1024, epochs=10, shuffle=True, verbose=0)\n",
    "  vloss = vloss.history['loss'][-1]\n",
    "  print(len(X))      \n",
    "  lll.append((epoch, np.mean(ll), loss, vloss, len(X), len(ll), time.perf_counter() - st))\n",
    "  print(\"%3d  ep_rew:%9.2f  loss:%7.2f   vloss:%9.2f  counts: %5d/%3d tm: %.2f s\" % lll[-1])"
   ]
  },
  {
   "cell_type": "code",
   "execution_count": 7,
   "metadata": {},
   "outputs": [
    {
     "data": {
      "text/plain": [
       "<matplotlib.legend.Legend at 0x1286d9278>"
      ]
     },
     "execution_count": 7,
     "metadata": {},
     "output_type": "execute_result"
    },
    {
     "data": {
      "image/png": "[encoded data removed]",
      "text/plain": [
       "<Figure size 1152x576 with 2 Axes>"
      ]
     },
     "metadata": {},
     "output_type": "display_data"
    }
   ],
   "source": [
    "figsize(16,8)\n",
    "plt.subplot(1,2,1)\n",
    "plot([x[1] for x in lll], label=\"Mean Episode Reward\")\n",
    "plot([x[2] for x in lll], label=\"Epoch Loss\")\n",
    "plt.legend()\n",
    "plt.subplot(1,2,2)\n",
    "plot([x[3] for x in lll], color='green', label=\"value Loss\")\n",
    "plt.legend()"
   ]
  },
  {
   "cell_type": "code",
   "execution_count": 13,
   "metadata": {},
   "outputs": [
    {
     "name": "stdout",
     "output_type": "stream",
     "text": [
      "ran 208 steps, got 289.944525 reward\n"
     ]
    }
   ],
   "source": [
    "obs = env.reset()\n",
    "rews = []\n",
    "while True:\n",
    "  env.render()\n",
    "  pred, act = [x[0] for x in pf(obs[None])]\n",
    "  obs, rew, done, _ = env.step(np.argmax(pred))\n",
    "  rews.append(rew)\n",
    "  time.sleep(0.05)\n",
    "  if done:\n",
    "    break\n",
    "print(\"ran %d steps, got %f reward\" % (len(rews), np.sum(rews)))"
   ]
  },
  {
   "cell_type": "code",
   "execution_count": null,
   "metadata": {},
   "outputs": [],
   "source": []
  },
  {
   "cell_type": "code",
   "execution_count": null,
   "metadata": {},
   "outputs": [],
   "source": []
  }
 ],
 "metadata": {
  "kernelspec": {
   "display_name": "Python 3",
   "language": "python",
   "name": "python3"
  },
  "language_info": {
   "codemirror_mode": {
    "name": "ipython",
    "version": 3
   },
   "file_extension": ".py",
   "mimetype": "text/x-python",
   "name": "python",
   "nbconvert_exporter": "python",
   "pygments_lexer": "ipython3",
   "version": "3.6.2"
  }
 },
 "nbformat": 4,
 "nbformat_minor": 2
}
